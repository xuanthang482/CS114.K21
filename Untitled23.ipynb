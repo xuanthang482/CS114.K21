{
  "nbformat": 4,
  "nbformat_minor": 0,
  "metadata": {
    "colab": {
      "name": "Untitled23.ipynb",
      "provenance": [],
      "authorship_tag": "ABX9TyOLysrwofWgF0MSuMCKziI9",
      "include_colab_link": true
    },
    "kernelspec": {
      "name": "python3",
      "display_name": "Python 3"
    }
  },
  "cells": [
    {
      "cell_type": "markdown",
      "metadata": {
        "id": "view-in-github",
        "colab_type": "text"
      },
      "source": [
        "<a href=\"https://colab.research.google.com/github/xuanthang482/CS114.K21/blob/master/Untitled23.ipynb\" target=\"_parent\"><img src=\"https://colab.research.google.com/assets/colab-badge.svg\" alt=\"Open In Colab\"/></a>"
      ]
    },
    {
      "cell_type": "code",
      "metadata": {
        "id": "5QxB31f_vH6B",
        "colab_type": "code",
        "colab": {}
      },
      "source": [
        "import requests\n",
        "from bs4 import BeautifulSoup"
      ],
      "execution_count": 1,
      "outputs": []
    },
    {
      "cell_type": "code",
      "metadata": {
        "id": "u4Zqi6Vot1BX",
        "colab_type": "code",
        "colab": {}
      },
      "source": [
        "def crawl(url, data):\n",
        "  r1 = requests.get(url)\n",
        "  coverpage = r1.content\n",
        "  soup1 = BeautifulSoup(coverpage, 'html5lib')\n",
        "  coverpage_news = soup1.find_all(\"h2\", class_=\"sc-759qgu-0 cYlVdn cw4lnv-6 eXwNRE\")\n",
        "  for i in coverpage_news:\n",
        "    data.append(i.get_text())   "
      ],
      "execution_count": 35,
      "outputs": []
    },
    {
      "cell_type": "code",
      "metadata": {
        "id": "NcT7x0Y1u-8m",
        "colab_type": "code",
        "colab": {}
      },
      "source": [
        "url = \"https://www.theonion.com/latest\"\n",
        "data= []\n",
        "while len(data)<1000:\n",
        "  crawl(url, data)\n",
        "  r1 = requests.get(url)\n",
        "  coverpage = r1.content\n",
        "  soup1 = BeautifulSoup(coverpage, 'html5lib')\n",
        "  t = soup1.find_all(\"a\", class_=\"sc-1out364-0 hMndXN js_link\")\n",
        "  "
      ],
      "execution_count": 38,
      "outputs": []
    },
    {
      "cell_type": "code",
      "metadata": {
        "id": "nyZ8Pu9Qyhhg",
        "colab_type": "code",
        "colab": {}
      },
      "source": [
        "def crawl(url, data2):\n",
        "  r1 = requests.get(url)\n",
        "  coverpage = r1.content\n",
        "  soup1 = BeautifulSoup(coverpage, 'html5lib')\n",
        "  coverpage_news = soup1.find_all(\"h3\", class_=\"TitleText TitleText--with-gradient GridStory__title-text\")\n",
        "  for i in coverpage_news:\n",
        "    data2.append(i.get_text())"
      ],
      "execution_count": 23,
      "outputs": []
    },
    {
      "cell_type": "code",
      "metadata": {
        "id": "Qb4rhYzJyqaz",
        "colab_type": "code",
        "colab": {}
      },
      "source": [
        "url = \"https://www.thedailybeast.com/category/world\"\n",
        "data2= []\n",
        "while len(data2)<100:\n",
        "  crawl(url, data)\n",
        "  r1 = requests.get(url)\n",
        "  coverpage = r1.content\n",
        "  soup1 = BeautifulSoup(coverpage, 'html5lib')\n",
        "  t = soup1.find_all(\"h1\", class_=\"StandardHeader__title\")"
      ],
      "execution_count": null,
      "outputs": []
    },
    {
      "cell_type": "code",
      "metadata": {
        "id": "OlEZAiVTveDx",
        "colab_type": "code",
        "colab": {}
      },
      "source": [
        "a=[]\n",
        "for i in range (1000):\n",
        "  a.append(1)"
      ],
      "execution_count": 30,
      "outputs": []
    },
    {
      "cell_type": "code",
      "metadata": {
        "id": "5HZ1IotnxHTJ",
        "colab_type": "code",
        "colab": {}
      },
      "source": [
        "b=[]\n",
        "for i in range (1000):\n",
        "  b.append(0)"
      ],
      "execution_count": 19,
      "outputs": []
    },
    {
      "cell_type": "code",
      "metadata": {
        "id": "YP8evoxWvXza",
        "colab_type": "code",
        "colab": {}
      },
      "source": [
        "import pandas as pd"
      ],
      "execution_count": 31,
      "outputs": []
    },
    {
      "cell_type": "code",
      "metadata": {
        "id": "19SHBGJAvl_x",
        "colab_type": "code",
        "colab": {
          "base_uri": "https://localhost:8080/",
          "height": 404
        },
        "outputId": "e30185ed-ee99-4a34-fc86-269f138c00fa"
      },
      "source": [
        "df1=pd.DataFrame([data,a]).T\n",
        "df1.columns=['headline','label']\n",
        "df1"
      ],
      "execution_count": 45,
      "outputs": [
        {
          "output_type": "execute_result",
          "data": {
            "text/html": [
              "<div>\n",
              "<style scoped>\n",
              "    .dataframe tbody tr th:only-of-type {\n",
              "        vertical-align: middle;\n",
              "    }\n",
              "\n",
              "    .dataframe tbody tr th {\n",
              "        vertical-align: top;\n",
              "    }\n",
              "\n",
              "    .dataframe thead th {\n",
              "        text-align: right;\n",
              "    }\n",
              "</style>\n",
              "<table border=\"1\" class=\"dataframe\">\n",
              "  <thead>\n",
              "    <tr style=\"text-align: right;\">\n",
              "      <th></th>\n",
              "      <th>headline</th>\n",
              "      <th>label</th>\n",
              "    </tr>\n",
              "  </thead>\n",
              "  <tbody>\n",
              "    <tr>\n",
              "      <th>0</th>\n",
              "      <td>Mental Health Experts Advise On Best Ways To C...</td>\n",
              "      <td>1</td>\n",
              "    </tr>\n",
              "    <tr>\n",
              "      <th>1</th>\n",
              "      <td>The Onion’s Father’s Day Gift Guide For The Da...</td>\n",
              "      <td>1</td>\n",
              "    </tr>\n",
              "    <tr>\n",
              "      <th>2</th>\n",
              "      <td>Staples Center Employee Realizes He Left Shot ...</td>\n",
              "      <td>1</td>\n",
              "    </tr>\n",
              "    <tr>\n",
              "      <th>3</th>\n",
              "      <td>Father’s Day Gifts That Will Make Your Dad Fee...</td>\n",
              "      <td>1</td>\n",
              "    </tr>\n",
              "    <tr>\n",
              "      <th>4</th>\n",
              "      <td>Huh, Boyfriend’s Ex Just Made Interesting Hair...</td>\n",
              "      <td>1</td>\n",
              "    </tr>\n",
              "    <tr>\n",
              "      <th>...</th>\n",
              "      <td>...</td>\n",
              "      <td>...</td>\n",
              "    </tr>\n",
              "    <tr>\n",
              "      <th>995</th>\n",
              "      <td>Sony Reveals PS5 Fully Customizable With Diffe...</td>\n",
              "      <td>1</td>\n",
              "    </tr>\n",
              "    <tr>\n",
              "      <th>996</th>\n",
              "      <td>‘And What Do We Want To Do About This Nest Ful...</td>\n",
              "      <td>1</td>\n",
              "    </tr>\n",
              "    <tr>\n",
              "      <th>997</th>\n",
              "      <td>Report: This A Goddamn Walk In The Park Compar...</td>\n",
              "      <td>1</td>\n",
              "    </tr>\n",
              "    <tr>\n",
              "      <th>998</th>\n",
              "      <td>Jimmy Carter Checks Into Rehab For Debilitatin...</td>\n",
              "      <td>1</td>\n",
              "    </tr>\n",
              "    <tr>\n",
              "      <th>999</th>\n",
              "      <td>American Airlines Suspends Alcohol Service For...</td>\n",
              "      <td>1</td>\n",
              "    </tr>\n",
              "  </tbody>\n",
              "</table>\n",
              "<p>1000 rows × 2 columns</p>\n",
              "</div>"
            ],
            "text/plain": [
              "                                              headline label\n",
              "0    Mental Health Experts Advise On Best Ways To C...     1\n",
              "1    The Onion’s Father’s Day Gift Guide For The Da...     1\n",
              "2    Staples Center Employee Realizes He Left Shot ...     1\n",
              "3    Father’s Day Gifts That Will Make Your Dad Fee...     1\n",
              "4    Huh, Boyfriend’s Ex Just Made Interesting Hair...     1\n",
              "..                                                 ...   ...\n",
              "995  Sony Reveals PS5 Fully Customizable With Diffe...     1\n",
              "996  ‘And What Do We Want To Do About This Nest Ful...     1\n",
              "997  Report: This A Goddamn Walk In The Park Compar...     1\n",
              "998  Jimmy Carter Checks Into Rehab For Debilitatin...     1\n",
              "999  American Airlines Suspends Alcohol Service For...     1\n",
              "\n",
              "[1000 rows x 2 columns]"
            ]
          },
          "metadata": {
            "tags": []
          },
          "execution_count": 45
        }
      ]
    },
    {
      "cell_type": "code",
      "metadata": {
        "id": "VqsJ1NrsvuUN",
        "colab_type": "code",
        "colab": {}
      },
      "source": [
        ""
      ],
      "execution_count": null,
      "outputs": []
    }
  ]
}