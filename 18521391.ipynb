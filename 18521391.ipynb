{
  "nbformat": 4,
  "nbformat_minor": 0,
  "metadata": {
    "colab": {
      "name": "18521391.ipynb",
      "provenance": [],
      "authorship_tag": "ABX9TyMNZf8BTrn3H7QA55uGZa/I",
      "include_colab_link": true
    },
    "kernelspec": {
      "name": "python3",
      "display_name": "Python 3"
    }
  },
  "cells": [
    {
      "cell_type": "markdown",
      "metadata": {
        "id": "view-in-github",
        "colab_type": "text"
      },
      "source": [
        "<a href=\"https://colab.research.google.com/github/xuanthang482/CS114.K21/blob/master/18521391.ipynb\" target=\"_parent\"><img src=\"https://colab.research.google.com/assets/colab-badge.svg\" alt=\"Open In Colab\"/></a>"
      ]
    },
    {
      "cell_type": "markdown",
      "metadata": {
        "id": "VueGpzdGvOcW",
        "colab_type": "text"
      },
      "source": [
        "import numpy , pandas và một số thư viện cần thiết "
      ]
    },
    {
      "cell_type": "code",
      "metadata": {
        "id": "0xGGa8Pbez2X",
        "colab_type": "code",
        "colab": {}
      },
      "source": [
        "from google.colab import files\n",
        "import pandas as pd\n",
        "import numpy as np\n",
        "from matplotlib import pyplot"
      ],
      "execution_count": 0,
      "outputs": []
    },
    {
      "cell_type": "markdown",
      "metadata": {
        "id": "usFKSNoVu8Rr",
        "colab_type": "text"
      },
      "source": [
        "load data từ url , và dùng hàm read_csv từ pandas để đọc data"
      ]
    },
    {
      "cell_type": "code",
      "metadata": {
        "id": "WDQ8a84Lt4T3",
        "colab_type": "code",
        "colab": {}
      },
      "source": [
        "\n",
        "# Load dataset\n",
        "dataset = pd.read_csv('https://cs.uit.edu.vn/data.txt',names= ['size','time'])"
      ],
      "execution_count": 0,
      "outputs": []
    },
    {
      "cell_type": "code",
      "metadata": {
        "id": "5kU2NdiLufjc",
        "colab_type": "code",
        "colab": {
          "base_uri": "https://localhost:8080/",
          "height": 644
        },
        "outputId": "78795cfe-34b0-42ba-e42d-6ede0544cced"
      },
      "source": [
        "dataset.head(20)"
      ],
      "execution_count": 4,
      "outputs": [
        {
          "output_type": "execute_result",
          "data": {
            "text/html": [
              "<div>\n",
              "<style scoped>\n",
              "    .dataframe tbody tr th:only-of-type {\n",
              "        vertical-align: middle;\n",
              "    }\n",
              "\n",
              "    .dataframe tbody tr th {\n",
              "        vertical-align: top;\n",
              "    }\n",
              "\n",
              "    .dataframe thead th {\n",
              "        text-align: right;\n",
              "    }\n",
              "</style>\n",
              "<table border=\"1\" class=\"dataframe\">\n",
              "  <thead>\n",
              "    <tr style=\"text-align: right;\">\n",
              "      <th></th>\n",
              "      <th>size</th>\n",
              "      <th>time</th>\n",
              "    </tr>\n",
              "  </thead>\n",
              "  <tbody>\n",
              "    <tr>\n",
              "      <th>0</th>\n",
              "      <td>4032139</td>\n",
              "      <td>1.200580</td>\n",
              "    </tr>\n",
              "    <tr>\n",
              "      <th>1</th>\n",
              "      <td>2055486</td>\n",
              "      <td>0.509774</td>\n",
              "    </tr>\n",
              "    <tr>\n",
              "      <th>2</th>\n",
              "      <td>5626651</td>\n",
              "      <td>1.476080</td>\n",
              "    </tr>\n",
              "    <tr>\n",
              "      <th>3</th>\n",
              "      <td>42065</td>\n",
              "      <td>0.007651</td>\n",
              "    </tr>\n",
              "    <tr>\n",
              "      <th>4</th>\n",
              "      <td>6297788</td>\n",
              "      <td>1.661560</td>\n",
              "    </tr>\n",
              "    <tr>\n",
              "      <th>5</th>\n",
              "      <td>8871407</td>\n",
              "      <td>2.653120</td>\n",
              "    </tr>\n",
              "    <tr>\n",
              "      <th>6</th>\n",
              "      <td>3106899</td>\n",
              "      <td>0.801168</td>\n",
              "    </tr>\n",
              "    <tr>\n",
              "      <th>7</th>\n",
              "      <td>2410855</td>\n",
              "      <td>0.598170</td>\n",
              "    </tr>\n",
              "    <tr>\n",
              "      <th>8</th>\n",
              "      <td>558704</td>\n",
              "      <td>0.129056</td>\n",
              "    </tr>\n",
              "    <tr>\n",
              "      <th>9</th>\n",
              "      <td>9012730</td>\n",
              "      <td>2.477870</td>\n",
              "    </tr>\n",
              "    <tr>\n",
              "      <th>10</th>\n",
              "      <td>6099403</td>\n",
              "      <td>1.631770</td>\n",
              "    </tr>\n",
              "    <tr>\n",
              "      <th>11</th>\n",
              "      <td>7189925</td>\n",
              "      <td>1.940180</td>\n",
              "    </tr>\n",
              "    <tr>\n",
              "      <th>12</th>\n",
              "      <td>3759151</td>\n",
              "      <td>0.978011</td>\n",
              "    </tr>\n",
              "    <tr>\n",
              "      <th>13</th>\n",
              "      <td>8004274</td>\n",
              "      <td>2.202210</td>\n",
              "    </tr>\n",
              "    <tr>\n",
              "      <th>14</th>\n",
              "      <td>4125525</td>\n",
              "      <td>1.059360</td>\n",
              "    </tr>\n",
              "    <tr>\n",
              "      <th>15</th>\n",
              "      <td>7580493</td>\n",
              "      <td>2.084130</td>\n",
              "    </tr>\n",
              "    <tr>\n",
              "      <th>16</th>\n",
              "      <td>9045670</td>\n",
              "      <td>2.461290</td>\n",
              "    </tr>\n",
              "    <tr>\n",
              "      <th>17</th>\n",
              "      <td>2987773</td>\n",
              "      <td>0.768997</td>\n",
              "    </tr>\n",
              "    <tr>\n",
              "      <th>18</th>\n",
              "      <td>2956967</td>\n",
              "      <td>0.780160</td>\n",
              "    </tr>\n",
              "    <tr>\n",
              "      <th>19</th>\n",
              "      <td>1941281</td>\n",
              "      <td>0.477229</td>\n",
              "    </tr>\n",
              "  </tbody>\n",
              "</table>\n",
              "</div>"
            ],
            "text/plain": [
              "       size      time\n",
              "0   4032139  1.200580\n",
              "1   2055486  0.509774\n",
              "2   5626651  1.476080\n",
              "3     42065  0.007651\n",
              "4   6297788  1.661560\n",
              "5   8871407  2.653120\n",
              "6   3106899  0.801168\n",
              "7   2410855  0.598170\n",
              "8    558704  0.129056\n",
              "9   9012730  2.477870\n",
              "10  6099403  1.631770\n",
              "11  7189925  1.940180\n",
              "12  3759151  0.978011\n",
              "13  8004274  2.202210\n",
              "14  4125525  1.059360\n",
              "15  7580493  2.084130\n",
              "16  9045670  2.461290\n",
              "17  2987773  0.768997\n",
              "18  2956967  0.780160\n",
              "19  1941281  0.477229"
            ]
          },
          "metadata": {
            "tags": []
          },
          "execution_count": 4
        }
      ]
    },
    {
      "cell_type": "markdown",
      "metadata": {
        "id": "hY1ctTUPvlUB",
        "colab_type": "text"
      },
      "source": [
        "import train_test_split để chia data ,và model linear regression"
      ]
    },
    {
      "cell_type": "code",
      "metadata": {
        "id": "1TXWXL1Su2iS",
        "colab_type": "code",
        "colab": {}
      },
      "source": [
        "from sklearn.model_selection import train_test_split\n",
        "from sklearn.linear_model import LinearRegression"
      ],
      "execution_count": 0,
      "outputs": []
    },
    {
      "cell_type": "markdown",
      "metadata": {
        "id": "2bjkfleEvy-x",
        "colab_type": "text"
      },
      "source": [
        "chia data theo hai tập train và validation theo tỉ lệ 8/2"
      ]
    },
    {
      "cell_type": "code",
      "metadata": {
        "id": "Glx-c8mnvqjB",
        "colab_type": "code",
        "colab": {}
      },
      "source": [
        "array = dataset.values\n",
        "X = array[0]\n",
        "y = array[1]\n",
        "X_train, X_validation, Y_train, Y_validation = train_test_split(X, y, test_size=0.20 , random_state=1)\n"
      ],
      "execution_count": 0,
      "outputs": []
    },
    {
      "cell_type": "code",
      "metadata": {
        "id": "-NM0ntySyHyL",
        "colab_type": "code",
        "colab": {}
      },
      "source": [
        "X_train=X_train.reshape(-1,1)"
      ],
      "execution_count": 0,
      "outputs": []
    },
    {
      "cell_type": "markdown",
      "metadata": {
        "id": "kTQT2_32wEsT",
        "colab_type": "text"
      },
      "source": [
        "chọn model và train data"
      ]
    },
    {
      "cell_type": "code",
      "metadata": {
        "id": "oYwc7UpQwLbY",
        "colab_type": "code",
        "colab": {
          "base_uri": "https://localhost:8080/",
          "height": 33
        },
        "outputId": "110f7eb8-d2a2-4c00-846b-eb6bb578d7e6"
      },
      "source": [
        "model=LinearRegression()\n",
        "model.fit(X_train,Y_train)"
      ],
      "execution_count": 9,
      "outputs": [
        {
          "output_type": "execute_result",
          "data": {
            "text/plain": [
              "LinearRegression(copy_X=True, fit_intercept=True, n_jobs=None, normalize=False)"
            ]
          },
          "metadata": {
            "tags": []
          },
          "execution_count": 9
        }
      ]
    }
  ]
}