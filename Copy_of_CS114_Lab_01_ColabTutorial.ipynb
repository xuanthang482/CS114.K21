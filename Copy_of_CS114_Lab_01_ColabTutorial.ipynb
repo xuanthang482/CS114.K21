{
  "nbformat": 4,
  "nbformat_minor": 0,
  "metadata": {
    "colab": {
      "name": "Copy of CS114.Lab-01.ColabTutorial.ipynb",
      "provenance": [],
      "toc_visible": true,
      "include_colab_link": true
    },
    "kernelspec": {
      "name": "python3",
      "display_name": "Python 3"
    }
  },
  "cells": [
    {
      "cell_type": "markdown",
      "metadata": {
        "id": "view-in-github",
        "colab_type": "text"
      },
      "source": [
        "<a href=\"https://colab.research.google.com/github/xuanthang482/CS114.K21/blob/master/Copy_of_CS114_Lab_01_ColabTutorial.ipynb\" target=\"_parent\"><img src=\"https://colab.research.google.com/assets/colab-badge.svg\" alt=\"Open In Colab\"/></a>"
      ]
    },
    {
      "cell_type": "markdown",
      "metadata": {
        "id": "t5jOCJ-oqEx4",
        "colab_type": "text"
      },
      "source": [
        "#CS114 - BÀI TẬP THỰC HÀNH LAB-01\n",
        "**@Lê Đình Duy**\n",
        "\n",
        "Đây là tài liệu hướng dẫn thực hành về cách sử dụng Google Colab\n",
        "\n",
        "\n"
      ]
    },
    {
      "cell_type": "markdown",
      "metadata": {
        "id": "dhtuhuQx5Got",
        "colab_type": "text"
      },
      "source": [
        "# Các thao tác cơ bản với Google Colab"
      ]
    },
    {
      "cell_type": "markdown",
      "metadata": {
        "id": "5_PomwEFzI2E",
        "colab_type": "text"
      },
      "source": [
        "## Các thao tác cơ bản với tập tin Notebook\n",
        "\n",
        "* Mở tập tin từ GitHub\n",
        "* Mở tập tin từ Google Drive\n",
        "* Nạp tập tin từ đĩa cứng\n",
        "* Lưu tập tin vào GitHub\n",
        "* Lưu tập tin vào Google Drive\n",
        "* Lưu tập tin vào đĩa cứng\n",
        "* Xoá tập tin notebook\n",
        "* Đổi tên tập tin notebook  \n",
        "* Xem lịch sử sửa đổi (revision)\n",
        "* Chia sẻ notebook\n",
        "* Xem ToC\n",
        "\n",
        "\n",
        "\n",
        "*Colab notebooks are stored in Google Drive, or can be loaded from GitHub. Colab notebooks can be shared just as you would with Google Docs or Sheets. Simply click the Share button at the top right of any Colab notebook, or follow these Google Drive file sharing instructions.*\n"
      ]
    },
    {
      "cell_type": "markdown",
      "metadata": {
        "id": "ufZJMxyj0bIJ",
        "colab_type": "text"
      },
      "source": [
        "## Các thao tác cơ bản với Cell\n",
        "\n",
        "* Tạo Code cell\n",
        "* Tạo Text cell \n",
        "* Ẩn/hiện code\n",
        "* Tìm và thêm Code snippets\n",
        "* Xem các tập tin Files (của máy ảo và Google Drive)\n",
        "* Thêm form "
      ]
    },
    {
      "cell_type": "markdown",
      "metadata": {
        "id": "xezl2Sb61ORX",
        "colab_type": "text"
      },
      "source": [
        "## Các thao tác khi thực thi Notebook\n",
        "\n",
        "* Kết nối với máy thực thi (Hosted runtime vs Local runtime)\n",
        "* Chế độ Playground\n",
        "* Thay đổi Runtime type (có dùng GPU, TPU không)\n",
        "* Thực thi một/nhiều code cell\n",
        "* Dừng thực thi code cell\n",
        "* Khởi động lại các thực thi\n",
        "* Xoá output của một cell\n",
        "* Xoá all output của notebook\n",
        "* Quản lý các sessions\n",
        "\n",
        "\n",
        "*Code is executed in a virtual machine private to your account. Virtual machines are deleted when idle for a while, and have a maximum lifetime enforced by the Colab service.*\n",
        "\n",
        "*Playground mode opens a copy of the read-only notebook in a temporary session that doesn't save the notebook. If you want to save any changes, you must save the notebook*"
      ]
    },
    {
      "cell_type": "markdown",
      "metadata": {
        "id": "RquIAty_-hjc",
        "colab_type": "text"
      },
      "source": [
        "## Cài đặt thư viện lên máy thực thi\n",
        "\n",
        "*To import a library that's not in Colaboratory by default, you can use !pip install or !apt-get install.*"
      ]
    },
    {
      "cell_type": "code",
      "metadata": {
        "id": "9PIvqzTt-mtf",
        "colab_type": "code",
        "colab": {}
      },
      "source": [
        ""
      ],
      "execution_count": 0,
      "outputs": []
    },
    {
      "cell_type": "code",
      "metadata": {
        "id": "2kkYmv1q-t1t",
        "colab_type": "code",
        "colab": {}
      },
      "source": [
        "# install 7zip reader\n",
        "# https://pypi.python.org/pypi/libarchive\n",
        "!apt-get -qq install -y libarchive-dev && pip install -q -U libarchive\n",
        "import libarchive"
      ],
      "execution_count": 0,
      "outputs": []
    },
    {
      "cell_type": "code",
      "metadata": {
        "id": "J_ETOHQT-ozH",
        "colab_type": "code",
        "colab": {}
      },
      "source": [
        "# install matplotlib\n",
        "!pip install -q matplotlib-venn"
      ],
      "execution_count": 0,
      "outputs": []
    },
    {
      "cell_type": "code",
      "metadata": {
        "id": "2Ah9mahR-oyn",
        "colab_type": "code",
        "colab": {}
      },
      "source": [
        "!apt-get -qq install -y libfluidsynth1"
      ],
      "execution_count": 0,
      "outputs": []
    },
    {
      "cell_type": "markdown",
      "metadata": {
        "id": "yyhT82NJqS3X",
        "colab_type": "text"
      },
      "source": [
        "#Các thao tác đọc và hiển thị ảnh dùng OpenCV"
      ]
    },
    {
      "cell_type": "markdown",
      "metadata": {
        "id": "YqlaBvjjqz0k",
        "colab_type": "text"
      },
      "source": [
        "## Hiển thị ảnh"
      ]
    },
    {
      "cell_type": "code",
      "metadata": {
        "id": "9Q-Jzwctqjnw",
        "colab_type": "code",
        "colab": {}
      },
      "source": [
        "from google.colab.patches import cv2_imshow\n",
        "import cv2"
      ],
      "execution_count": 0,
      "outputs": []
    },
    {
      "cell_type": "code",
      "metadata": {
        "id": "8jFJLCwXqjm3",
        "colab_type": "code",
        "colab": {}
      },
      "source": [
        "!curl -o logo.png https://colab.research.google.com/img/colab_favicon_256px.png\n",
        "img = cv2.imread('logo.png', cv2.IMREAD_UNCHANGED)\n",
        "cv2_imshow(img)"
      ],
      "execution_count": 0,
      "outputs": []
    },
    {
      "cell_type": "markdown",
      "metadata": {
        "id": "_3qbDr_55iI_",
        "colab_type": "text"
      },
      "source": [
        "*Viết lại thành hàm và nhập liệu từ form*\n"
      ]
    },
    {
      "cell_type": "code",
      "metadata": {
        "id": "zePqABatsuQk",
        "colab_type": "code",
        "colab": {}
      },
      "source": [
        "from google.colab.patches import cv2_imshow\n",
        "import cv2\n",
        "import os\n",
        "\n",
        "def download_view(img_url):\n",
        "  img_file = os.path.basename(img_url)\n",
        "  !curl -o $img_file $img_url\n",
        "  img = cv2.imread(img_file, cv2.IMREAD_UNCHANGED)\n",
        "  cv2_imshow(img)\n",
        "  return img_file"
      ],
      "execution_count": 0,
      "outputs": []
    },
    {
      "cell_type": "code",
      "metadata": {
        "id": "kSK8w8IrrmKg",
        "colab_type": "code",
        "cellView": "both",
        "colab": {}
      },
      "source": [
        "#@title Nhập URL\n",
        "\n",
        "img_url = \"https://i-vnexpress.vnecdn.net/2020/03/25/my-1-jpeg-2570-1585098851.jpg\" #@param {type:\"string\"}\n",
        "\n",
        "print(img_url)\n",
        "img_file = download_view(img_url)\n",
        "print(img_file)"
      ],
      "execution_count": 0,
      "outputs": []
    },
    {
      "cell_type": "markdown",
      "metadata": {
        "id": "Zmw5GNJ4qO7B",
        "colab_type": "text"
      },
      "source": [
        "## Chụp ảnh từ webcam"
      ]
    },
    {
      "cell_type": "code",
      "metadata": {
        "id": "fybeZ2Vfv0Z8",
        "colab_type": "code",
        "cellView": "both",
        "colab": {}
      },
      "source": [
        "from IPython.display import display, Javascript\n",
        "from google.colab.output import eval_js\n",
        "from base64 import b64decode\n",
        "\n",
        "def take_photo(filename='photo.jpg', quality=0.8):\n",
        "  js = Javascript('''\n",
        "    async function takePhoto(quality) {\n",
        "      const div = document.createElement('div');\n",
        "      const capture = document.createElement('button');\n",
        "      capture.textContent = 'Capture';\n",
        "      div.appendChild(capture);\n",
        "\n",
        "      const video = document.createElement('video');\n",
        "      video.style.display = 'block';\n",
        "      const stream = await navigator.mediaDevices.getUserMedia({video: true});\n",
        "\n",
        "      document.body.appendChild(div);\n",
        "      div.appendChild(video);\n",
        "      video.srcObject = stream;\n",
        "      await video.play();\n",
        "\n",
        "      // Resize the output to fit the video element.\n",
        "      google.colab.output.setIframeHeight(document.documentElement.scrollHeight, true);\n",
        "\n",
        "      // Wait for Capture to be clicked.\n",
        "      await new Promise((resolve) => capture.onclick = resolve);\n",
        "\n",
        "      const canvas = document.createElement('canvas');\n",
        "      canvas.width = video.videoWidth;\n",
        "      canvas.height = video.videoHeight;\n",
        "      canvas.getContext('2d').drawImage(video, 0, 0);\n",
        "      stream.getVideoTracks()[0].stop();\n",
        "      div.remove();\n",
        "      return canvas.toDataURL('image/jpeg', quality);\n",
        "    }\n",
        "    ''')\n",
        "  display(js)\n",
        "  data = eval_js('takePhoto({})'.format(quality))\n",
        "  binary = b64decode(data.split(',')[1])\n",
        "  with open(filename, 'wb') as f:\n",
        "    f.write(binary)\n",
        "  return filename"
      ],
      "execution_count": 0,
      "outputs": []
    },
    {
      "cell_type": "code",
      "metadata": {
        "id": "L61hyuU9v0ZC",
        "colab_type": "code",
        "colab": {}
      },
      "source": [
        "from IPython.display import Image\n",
        "try:\n",
        "  filename = take_photo()\n",
        "  print('Saved to {}'.format(filename))\n",
        "  \n",
        "  # Show the image which was just taken.\n",
        "  display(Image(filename))\n",
        "except Exception as err:\n",
        "  # Errors will be thrown if the user does not have a webcam or if they do not\n",
        "  # grant the page permission to access it.\n",
        "  print(str(err))"
      ],
      "execution_count": 0,
      "outputs": []
    },
    {
      "cell_type": "markdown",
      "metadata": {
        "id": "o8BoDBOg6PZK",
        "colab_type": "text"
      },
      "source": [
        "# \bCác thao tác kết nối với Google Drive để đọc và lưu tập tin"
      ]
    },
    {
      "cell_type": "markdown",
      "metadata": {
        "id": "yCjzOj3Z6YBS",
        "colab_type": "text"
      },
      "source": [
        "## Kết nối với Google Drive"
      ]
    },
    {
      "cell_type": "code",
      "metadata": {
        "id": "0IZ4emkr6fEy",
        "colab_type": "code",
        "colab": {}
      },
      "source": [
        "from google.colab import drive\n",
        "\n",
        "drive.mount('/content/drive')"
      ],
      "execution_count": 0,
      "outputs": []
    },
    {
      "cell_type": "markdown",
      "metadata": {
        "id": "mCyiu-QM7AUo",
        "colab_type": "text"
      },
      "source": [
        "*Nạp dữ liệu từ Google Sheet*"
      ]
    },
    {
      "cell_type": "code",
      "metadata": {
        "id": "8icdTFrE6x6g",
        "colab_type": "code",
        "colab": {}
      },
      "source": [
        "!pip install --upgrade -q gspread"
      ],
      "execution_count": 0,
      "outputs": []
    },
    {
      "cell_type": "code",
      "metadata": {
        "id": "gnIBsuKJ6x53",
        "colab_type": "code",
        "colab": {}
      },
      "source": [
        "from google.colab import auth\n",
        "auth.authenticate_user()\n",
        "\n",
        "import gspread\n",
        "from oauth2client.client import GoogleCredentials\n",
        "\n",
        "gc = gspread.authorize(GoogleCredentials.get_application_default())\n",
        "\n",
        "worksheet = gc.open('Your spreadsheet name').sheet1\n",
        "\n",
        "# get_all_values gives a list of rows.\n",
        "rows = worksheet.get_all_values()\n",
        "print(rows)\n",
        "\n",
        "# Convert to a DataFrame and render.\n",
        "import pandas as pd\n",
        "pd.DataFrame.from_records(rows)"
      ],
      "execution_count": 0,
      "outputs": []
    },
    {
      "cell_type": "markdown",
      "metadata": {
        "id": "9xHOncS58qCK",
        "colab_type": "text"
      },
      "source": [
        "*Đọc file được share*"
      ]
    },
    {
      "cell_type": "code",
      "metadata": {
        "id": "1T6GqX7i8skc",
        "colab_type": "code",
        "colab": {}
      },
      "source": [
        "# ref: https://buomsoo-kim.github.io/colab/2018/04/16/Importing-files-from-Google-Drive-in-Google-Colab.md/\n",
        "# your code here"
      ],
      "execution_count": 0,
      "outputs": []
    },
    {
      "cell_type": "markdown",
      "metadata": {
        "id": "okh73Q5p8VPd",
        "colab_type": "text"
      },
      "source": [
        "*Tải dữ liệu từ Kaggle về Colab*"
      ]
    },
    {
      "cell_type": "code",
      "metadata": {
        "id": "q0KfIr678ZkL",
        "colab_type": "code",
        "colab": {}
      },
      "source": [
        "# ref: https://towardsdatascience.com/downloading-datasets-into-google-drive-via-google-colab-bcb1b30b0166\n",
        "# your code here"
      ],
      "execution_count": 0,
      "outputs": []
    },
    {
      "cell_type": "markdown",
      "metadata": {
        "id": "-BpmVmJK60do",
        "colab_type": "text"
      },
      "source": [
        "*Lưu tập tin vào đĩa cứng cục bộ*"
      ]
    },
    {
      "cell_type": "code",
      "metadata": {
        "id": "-O0l2YV-6oNt",
        "colab_type": "code",
        "colab": {}
      },
      "source": [
        "from google.colab import files\n",
        "\n",
        "with open('example.txt', 'w') as f:\n",
        "  f.write('some content')\n",
        "\n",
        "files.download('example.txt')"
      ],
      "execution_count": 0,
      "outputs": []
    },
    {
      "cell_type": "markdown",
      "metadata": {
        "id": "O80AtqR07ggL",
        "colab_type": "text"
      },
      "source": [
        "# Thao tác khác\n",
        "\n",
        "*Tham khảo Code Snippets hoặc tự đặt câu hỏi và tìm trên Google*"
      ]
    },
    {
      "cell_type": "markdown",
      "metadata": {
        "id": "rg0V0bf57Zbe",
        "colab_type": "text"
      },
      "source": [
        "##Play YouTube Video"
      ]
    },
    {
      "cell_type": "code",
      "metadata": {
        "id": "tBPydXS47Xmz",
        "colab_type": "code",
        "colab": {}
      },
      "source": [
        "from IPython.display import YouTubeVideo\n",
        "YouTubeVideo('IGyA9CxWwbs')"
      ],
      "execution_count": 0,
      "outputs": []
    },
    {
      "cell_type": "markdown",
      "metadata": {
        "id": "Fg1NUU5gAZj1",
        "colab_type": "text"
      },
      "source": [
        "## Play (small size) Video"
      ]
    },
    {
      "cell_type": "code",
      "metadata": {
        "id": "K2CiYhprAcoA",
        "colab_type": "code",
        "colab": {}
      },
      "source": [
        "#Here's a nice way to watch a video within the notebook--will be useful\n",
        "# when we want to work with videos\n",
        "import io\n",
        "import base64\n",
        "from IPython.display import HTML\n",
        "\n",
        "def playvideo(filename):\n",
        "    video = io.open(filename, 'r+b').read()\n",
        "    encoded = base64.b64encode(video)\n",
        "    return HTML(data='''<video alt=\"test\" controls>\n",
        "                    <source src=\"data:video/mp4;base64,{0}\" type=\"video/mp4\"/>\n",
        "                 </video>'''.format(encoded.decode('ascii')))\n",
        "#Now play...\n",
        "playvideo('sample.mp4')"
      ],
      "execution_count": 0,
      "outputs": []
    },
    {
      "cell_type": "markdown",
      "metadata": {
        "id": "Vdt8kSyP_ELe",
        "colab_type": "text"
      },
      "source": [
        "## Javascript to Python Communication\n",
        "\n",
        "*Python code can register callbacks which can be invoked by Javascript in the outputframe.\n",
        "Note: This is only available to 'trusted' outputs- outputs which have been executed within the current session*\n",
        "\n"
      ]
    },
    {
      "cell_type": "code",
      "metadata": {
        "id": "VsGfrF7n_R4_",
        "colab_type": "code",
        "colab": {}
      },
      "source": [
        "import IPython\n",
        "from google.colab import output\n",
        "\n",
        "def Concat(a, b):\n",
        "  # Use display.JSON to transfer a structured result.\n",
        "  return IPython.display.JSON({'result': ' '.join((a, b))})\n",
        "\n",
        "output.register_callback('notebook.Concat', Concat)"
      ],
      "execution_count": 0,
      "outputs": []
    },
    {
      "cell_type": "code",
      "metadata": {
        "id": "3-E5RBqN_R4f",
        "colab_type": "code",
        "colab": {}
      },
      "source": [
        "%%javascript\n",
        "(async function() {\n",
        "  const result = await google.colab.kernel.invokeFunction(\n",
        "    'notebook.Concat', // The callback name.\n",
        "    ['hello', 'world!'], // The arguments.\n",
        "    {}); // kwargs\n",
        "  const text = result.data['application/json'];\n",
        "  document.querySelector(\"#output-area\").appendChild(document.createTextNode(text.result));\n",
        "})();"
      ],
      "execution_count": 0,
      "outputs": []
    },
    {
      "cell_type": "code",
      "metadata": {
        "id": "cEtRZpXc_R4D",
        "colab_type": "code",
        "colab": {}
      },
      "source": [
        "import IPython\n",
        "from google.colab import output\n",
        "\n",
        "display(IPython.display.HTML('''\n",
        "    The items:\n",
        "    <br><ol id=\"items\"></ol>\n",
        "    <button id='button'>Click to add</button>\n",
        "    <script>\n",
        "      document.querySelector('#button').onclick = () => {\n",
        "        google.colab.kernel.invokeFunction('notebook.AddListItem', [], {});\n",
        "      };\n",
        "    </script>\n",
        "    '''))\n",
        "\n",
        "def add_list_item():\n",
        "  # Use redirect_to_element to direct the elements which are being written.\n",
        "  with output.redirect_to_element('#items'):\n",
        "    # Use display to add items which will be persisted on notebook reload.\n",
        "    display(IPython.display.HTML('<li> Another item</li>'))\n",
        "\n",
        "output.register_callback('notebook.AddListItem', add_list_item)"
      ],
      "execution_count": 0,
      "outputs": []
    },
    {
      "cell_type": "code",
      "metadata": {
        "id": "wN-vr3Iv_R3P",
        "colab_type": "code",
        "colab": {}
      },
      "source": [
        "import IPython\n",
        "import uuid\n",
        "from google.colab import output\n",
        "\n",
        "class InvokeButton(object):\n",
        "  def __init__(self, title, callback):\n",
        "    self._title = title\n",
        "    self._callback = callback\n",
        "\n",
        "  def _repr_html_(self):\n",
        "    callback_id = 'button-' + str(uuid.uuid4())\n",
        "    output.register_callback(callback_id, self._callback)\n",
        "\n",
        "    template = \"\"\"<button id=\"{callback_id}\">{title}</button>\n",
        "        <script>\n",
        "          document.querySelector(\"#{callback_id}\").onclick = (e) => {{\n",
        "            google.colab.kernel.invokeFunction('{callback_id}', [], {{}})\n",
        "            e.preventDefault();\n",
        "          }};\n",
        "        </script>\"\"\"\n",
        "    html = template.format(title=self._title, callback_id=callback_id)\n",
        "    return html\n",
        "\n",
        "def do_something():\n",
        "  print('here')\n",
        "\n",
        "InvokeButton('click me', do_something)"
      ],
      "execution_count": 0,
      "outputs": []
    },
    {
      "cell_type": "markdown",
      "metadata": {
        "id": "Rbd1xBAk_dtf",
        "colab_type": "text"
      },
      "source": [
        "## Open files from GitHub\n",
        "\n",
        "*To open a file from GitHub, you can clone the repo or fetch the file directly.\n",
        "If you are trying to access files from a private repo, you must use a GitHub access token.*"
      ]
    },
    {
      "cell_type": "code",
      "metadata": {
        "id": "ren9Ca8-_mE_",
        "colab_type": "code",
        "colab": {}
      },
      "source": [
        "# Clone the entire repo.\n",
        "!git clone -l -s git://github.com/jakevdp/PythonDataScienceHandbook.git cloned-repo\n",
        "%cd cloned-repo\n",
        "!ls"
      ],
      "execution_count": 0,
      "outputs": []
    },
    {
      "cell_type": "code",
      "metadata": {
        "id": "i_JkzFWF_mEe",
        "colab_type": "code",
        "colab": {}
      },
      "source": [
        "# Fetch a single <1MB file using the raw GitHub URL.\n",
        "!curl --remote-name \\\n",
        "     -H 'Accept: application/vnd.github.v3.raw' \\\n",
        "     --location https://api.github.com/repos/jakevdp/PythonDataScienceHandbook/contents/notebooks/data/california_cities.csv"
      ],
      "execution_count": 0,
      "outputs": []
    },
    {
      "cell_type": "markdown",
      "metadata": {
        "id": "DlEfRDup_y-A",
        "colab_type": "text"
      },
      "source": [
        "## Upgrading TensorFlow\n",
        "\n",
        "*TensorFlow is available by default but you can switch which version you're using.*\n"
      ]
    },
    {
      "cell_type": "code",
      "metadata": {
        "id": "n1kLAJvE_41s",
        "colab_type": "code",
        "colab": {}
      },
      "source": [
        "# To determine which version you're using:\n",
        "!pip show tensorflow\n",
        "\n",
        "# For the current version: \n",
        "!pip install --upgrade tensorflow\n",
        "\n",
        "# For a specific version:\n",
        "!pip install tensorflow==1.2\n",
        "\n",
        "# For the latest nightly build:\n",
        "!pip install tf-nightly"
      ],
      "execution_count": 0,
      "outputs": []
    }
  ]
}