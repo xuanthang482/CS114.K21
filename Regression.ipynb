{
  "nbformat": 4,
  "nbformat_minor": 0,
  "metadata": {
    "colab": {
      "name": "Regression.ipynb",
      "provenance": [],
      "authorship_tag": "ABX9TyOB4nStiTGrkUmyhNLAPWTU",
      "include_colab_link": true
    },
    "kernelspec": {
      "name": "python3",
      "display_name": "Python 3"
    }
  },
  "cells": [
    {
      "cell_type": "markdown",
      "metadata": {
        "id": "view-in-github",
        "colab_type": "text"
      },
      "source": [
        "<a href=\"https://colab.research.google.com/github/xuanthang482/CS114.K21/blob/master/Regression.ipynb\" target=\"_parent\"><img src=\"https://colab.research.google.com/assets/colab-badge.svg\" alt=\"Open In Colab\"/></a>"
      ]
    },
    {
      "cell_type": "markdown",
      "metadata": {
        "id": "yk7MN028XS80",
        "colab_type": "text"
      },
      "source": [
        "import các thư viện cần thiết ,model , hàm chia data , hàm tính sai số"
      ]
    },
    {
      "cell_type": "code",
      "metadata": {
        "id": "R7NizxdzXV_l",
        "colab_type": "code",
        "colab": {}
      },
      "source": [
        "import pandas as pd\n",
        "import numpy as np\n",
        "import matplotlib.pyplot as plt\n",
        "from sklearn.model_selection import train_test_split\n",
        "from sklearn.linear_model import LinearRegression\n",
        "from sklearn.metrics import mean_absolute_error"
      ],
      "execution_count": 37,
      "outputs": []
    },
    {
      "cell_type": "markdown",
      "metadata": {
        "id": "AELfSpF2XchE",
        "colab_type": "text"
      },
      "source": [
        "Lấy dữ liệu xuống thế nào?\n",
        "\n",
        "load dữ liệu từ url , dùng hàm read_csv để đọc data"
      ]
    },
    {
      "cell_type": "code",
      "metadata": {
        "id": "Rp-uCgnYXeBD",
        "colab_type": "code",
        "colab": {}
      },
      "source": [
        "dataset = pd.read_csv(\"http://cs.uit.edu.vn/data2.txt\", names =['size', 'time'] )"
      ],
      "execution_count": 38,
      "outputs": []
    },
    {
      "cell_type": "markdown",
      "metadata": {
        "id": "o4Bk0lvpVMxr",
        "colab_type": "text"
      },
      "source": [
        "in ra 10 dòng đầu của dataset"
      ]
    },
    {
      "cell_type": "code",
      "metadata": {
        "id": "4oDzhSI3Ximb",
        "colab_type": "code",
        "colab": {
          "base_uri": "https://localhost:8080/",
          "height": 345
        },
        "outputId": "41b5e516-144f-455d-8075-6f3f690fbdf3"
      },
      "source": [
        "dataset.head(10)"
      ],
      "execution_count": 39,
      "outputs": [
        {
          "output_type": "execute_result",
          "data": {
            "text/html": [
              "<div>\n",
              "<style scoped>\n",
              "    .dataframe tbody tr th:only-of-type {\n",
              "        vertical-align: middle;\n",
              "    }\n",
              "\n",
              "    .dataframe tbody tr th {\n",
              "        vertical-align: top;\n",
              "    }\n",
              "\n",
              "    .dataframe thead th {\n",
              "        text-align: right;\n",
              "    }\n",
              "</style>\n",
              "<table border=\"1\" class=\"dataframe\">\n",
              "  <thead>\n",
              "    <tr style=\"text-align: right;\">\n",
              "      <th></th>\n",
              "      <th>size</th>\n",
              "      <th>time</th>\n",
              "    </tr>\n",
              "  </thead>\n",
              "  <tbody>\n",
              "    <tr>\n",
              "      <th>0</th>\n",
              "      <td>6083695</td>\n",
              "      <td>0.521842</td>\n",
              "    </tr>\n",
              "    <tr>\n",
              "      <th>1</th>\n",
              "      <td>1954367</td>\n",
              "      <td>0.152648</td>\n",
              "    </tr>\n",
              "    <tr>\n",
              "      <th>2</th>\n",
              "      <td>3734185</td>\n",
              "      <td>0.298548</td>\n",
              "    </tr>\n",
              "    <tr>\n",
              "      <th>3</th>\n",
              "      <td>5839301</td>\n",
              "      <td>0.460480</td>\n",
              "    </tr>\n",
              "    <tr>\n",
              "      <th>4</th>\n",
              "      <td>6343427</td>\n",
              "      <td>0.527977</td>\n",
              "    </tr>\n",
              "    <tr>\n",
              "      <th>5</th>\n",
              "      <td>1355574</td>\n",
              "      <td>0.098012</td>\n",
              "    </tr>\n",
              "    <tr>\n",
              "      <th>6</th>\n",
              "      <td>725488</td>\n",
              "      <td>0.048238</td>\n",
              "    </tr>\n",
              "    <tr>\n",
              "      <th>7</th>\n",
              "      <td>1191887</td>\n",
              "      <td>0.089304</td>\n",
              "    </tr>\n",
              "    <tr>\n",
              "      <th>8</th>\n",
              "      <td>4556292</td>\n",
              "      <td>0.378561</td>\n",
              "    </tr>\n",
              "    <tr>\n",
              "      <th>9</th>\n",
              "      <td>9989596</td>\n",
              "      <td>0.832734</td>\n",
              "    </tr>\n",
              "  </tbody>\n",
              "</table>\n",
              "</div>"
            ],
            "text/plain": [
              "      size      time\n",
              "0  6083695  0.521842\n",
              "1  1954367  0.152648\n",
              "2  3734185  0.298548\n",
              "3  5839301  0.460480\n",
              "4  6343427  0.527977\n",
              "5  1355574  0.098012\n",
              "6   725488  0.048238\n",
              "7  1191887  0.089304\n",
              "8  4556292  0.378561\n",
              "9  9989596  0.832734"
            ]
          },
          "metadata": {
            "tags": []
          },
          "execution_count": 39
        }
      ]
    },
    {
      "cell_type": "code",
      "metadata": {
        "id": "DkoQi9ekXouD",
        "colab_type": "code",
        "colab": {
          "base_uri": "https://localhost:8080/",
          "height": 33
        },
        "outputId": "4107071b-7193-44db-887c-fa0e29e78f7a"
      },
      "source": [
        "dataset.shape"
      ],
      "execution_count": 40,
      "outputs": [
        {
          "output_type": "execute_result",
          "data": {
            "text/plain": [
              "(71115, 2)"
            ]
          },
          "metadata": {
            "tags": []
          },
          "execution_count": 40
        }
      ]
    },
    {
      "cell_type": "markdown",
      "metadata": {
        "id": "Pdxq9GFWXsgC",
        "colab_type": "text"
      },
      "source": [
        "Chọn model và train thế nào? \n",
        "\n"
      ]
    },
    {
      "cell_type": "code",
      "metadata": {
        "id": "rrumrirrXuB3",
        "colab_type": "code",
        "colab": {}
      },
      "source": [
        "# Chia data theo tỉ lệ 8/2\n",
        "X = dataset['size']\n",
        "y = dataset['time']\n",
        "X_train, X_validation, Y_train, Y_validation = train_test_split(X, y, test_size=0.2, random_state=1)\n",
        "#vì data chỉ có 1 cột nên phải reshape\n",
        "X_train = X_train.values.reshape(-1,1)\n",
        "X_validation = X_validation.values.reshape(-1,1)\n",
        "Y_train = Y_train.values.reshape(-1,1)\n",
        "Y_validation = Y_validation.values.reshape(-1,1)\n"
      ],
      "execution_count": 41,
      "outputs": []
    },
    {
      "cell_type": "code",
      "metadata": {
        "id": "-dVPCRRKgenp",
        "colab_type": "code",
        "colab": {
          "base_uri": "https://localhost:8080/",
          "height": 296
        },
        "outputId": "0772f4ce-c78c-47f4-d9a7-10f67f8d2054"
      },
      "source": [
        "X_size = dataset['size']\n",
        "y_size = dataset['time']\n",
        "plt.title('Relationship between X and Y')\n",
        "plt.scatter(X_size, y_size,  color='black')\n",
        "plt.xlabel('X_size')\n",
        "plt.ylabel('Y_size')\n",
        "plt.show()\n"
      ],
      "execution_count": 42,
      "outputs": [
        {
          "output_type": "display_data",
          "data": {
            "image/png": "[encoded data removed]",
            "text/plain": [
              "<Figure size 432x288 with 1 Axes>"
            ]
          },
          "metadata": {
            "tags": [],
            "needs_background": "light"
          }
        }
      ]
    },
    {
      "cell_type": "markdown",
      "metadata": {
        "id": "BywtfEmrX4s0",
        "colab_type": "text"
      },
      "source": [
        "Viết ứng dụng thực hiện việc predict cho một mẫu dữ liệu mới thế nào?\n",
        "\n",
        "*   Tạo ra 1 mẫu dữ liệu mới bằng biến test\n",
        "*   Cho test vô model để dự đoán\n",
        "\n"
      ]
    },
    {
      "cell_type": "code",
      "metadata": {
        "id": "-Cy38UUfX6bx",
        "colab_type": "code",
        "colab": {
          "base_uri": "https://localhost:8080/",
          "height": 67
        },
        "outputId": "67c1b92c-a632-460f-f7d4-bdad158c98e0"
      },
      "source": [
        "test = [[int(input(\"nhap vao gia tri size can predict : \"))]]\n",
        "model = LinearRegression()\n",
        "model.fit(X_train,Y_train)\n",
        "pre=model.predict(X_validation)\n",
        "result=mean_absolute_error(pre, Y_validation)\n",
        "print(result)\n",
        "a = model.predict(test)\n",
        "print(a)"
      ],
      "execution_count": 43,
      "outputs": [
        {
          "output_type": "stream",
          "text": [
            "nhap vao gia tri size can predict : 12345\n",
            "0.00831551754510758\n",
            "[[-0.01486992]]\n"
          ],
          "name": "stdout"
        }
      ]
    },
    {
      "cell_type": "markdown",
      "metadata": {
        "id": "cLb9lHDOYCAV",
        "colab_type": "text"
      },
      "source": [
        "Khả năng dự đoán của ứng dụng là tốt hay không? Làm sao biết?\n",
        "\n",
        "*   Khả năng dự đoán của model là tốt\n",
        "*   Ở bước đánh giá model đã đánh giá giá trị mean absolute error của model linear regression là rất thấp ~ 0.0083\n",
        "\n"
      ]
    },
    {
      "cell_type": "markdown",
      "metadata": {
        "id": "6RbUreLWYI5H",
        "colab_type": "text"
      },
      "source": [
        "ROUND 3\n"
      ]
    },
    {
      "cell_type": "markdown",
      "metadata": {
        "id": "WV_3P4gbWT-2",
        "colab_type": "text"
      },
      "source": [
        "load bộ data 3 bằng read_csv"
      ]
    },
    {
      "cell_type": "code",
      "metadata": {
        "id": "J2gAwJnXYEWG",
        "colab_type": "code",
        "colab": {}
      },
      "source": [
        "dataset3 = pd.read_csv(\"http://cs.uit.edu.vn/data3.txt\",sep=\",\", names =['size', 'time'] )"
      ],
      "execution_count": 51,
      "outputs": []
    },
    {
      "cell_type": "code",
      "metadata": {
        "id": "H35puKu_YOEL",
        "colab_type": "code",
        "colab": {
          "base_uri": "https://localhost:8080/",
          "height": 345
        },
        "outputId": "5b78f24d-1180-4d53-d725-cb08836aabe4"
      },
      "source": [
        "dataset3.head(10)"
      ],
      "execution_count": 52,
      "outputs": [
        {
          "output_type": "execute_result",
          "data": {
            "text/html": [
              "<div>\n",
              "<style scoped>\n",
              "    .dataframe tbody tr th:only-of-type {\n",
              "        vertical-align: middle;\n",
              "    }\n",
              "\n",
              "    .dataframe tbody tr th {\n",
              "        vertical-align: top;\n",
              "    }\n",
              "\n",
              "    .dataframe thead th {\n",
              "        text-align: right;\n",
              "    }\n",
              "</style>\n",
              "<table border=\"1\" class=\"dataframe\">\n",
              "  <thead>\n",
              "    <tr style=\"text-align: right;\">\n",
              "      <th></th>\n",
              "      <th>size</th>\n",
              "      <th>time</th>\n",
              "    </tr>\n",
              "  </thead>\n",
              "  <tbody>\n",
              "    <tr>\n",
              "      <th>0</th>\n",
              "      <td>37837612</td>\n",
              "      <td>4.12166</td>\n",
              "    </tr>\n",
              "    <tr>\n",
              "      <th>1</th>\n",
              "      <td>37395246</td>\n",
              "      <td>3.92089</td>\n",
              "    </tr>\n",
              "    <tr>\n",
              "      <th>2</th>\n",
              "      <td>36610827</td>\n",
              "      <td>3.21540</td>\n",
              "    </tr>\n",
              "    <tr>\n",
              "      <th>3</th>\n",
              "      <td>29555651</td>\n",
              "      <td>2.54506</td>\n",
              "    </tr>\n",
              "    <tr>\n",
              "      <th>4</th>\n",
              "      <td>25928216</td>\n",
              "      <td>2.21831</td>\n",
              "    </tr>\n",
              "    <tr>\n",
              "      <th>5</th>\n",
              "      <td>30423112</td>\n",
              "      <td>2.61376</td>\n",
              "    </tr>\n",
              "    <tr>\n",
              "      <th>6</th>\n",
              "      <td>21881189</td>\n",
              "      <td>1.85961</td>\n",
              "    </tr>\n",
              "    <tr>\n",
              "      <th>7</th>\n",
              "      <td>35810179</td>\n",
              "      <td>3.14761</td>\n",
              "    </tr>\n",
              "    <tr>\n",
              "      <th>8</th>\n",
              "      <td>35355055</td>\n",
              "      <td>3.07585</td>\n",
              "    </tr>\n",
              "    <tr>\n",
              "      <th>9</th>\n",
              "      <td>29399699</td>\n",
              "      <td>2.56714</td>\n",
              "    </tr>\n",
              "  </tbody>\n",
              "</table>\n",
              "</div>"
            ],
            "text/plain": [
              "       size     time\n",
              "0  37837612  4.12166\n",
              "1  37395246  3.92089\n",
              "2  36610827  3.21540\n",
              "3  29555651  2.54506\n",
              "4  25928216  2.21831\n",
              "5  30423112  2.61376\n",
              "6  21881189  1.85961\n",
              "7  35810179  3.14761\n",
              "8  35355055  3.07585\n",
              "9  29399699  2.56714"
            ]
          },
          "metadata": {
            "tags": []
          },
          "execution_count": 52
        }
      ]
    },
    {
      "cell_type": "markdown",
      "metadata": {
        "id": "NMBXj2BbYPvF",
        "colab_type": "text"
      },
      "source": [
        "in ra các chiều của dataset3"
      ]
    },
    {
      "cell_type": "code",
      "metadata": {
        "id": "D6n491EBYSpB",
        "colab_type": "code",
        "colab": {
          "base_uri": "https://localhost:8080/",
          "height": 33
        },
        "outputId": "bcd27ffa-6f3d-4158-b192-9fac10188af1"
      },
      "source": [
        "dataset3.shape"
      ],
      "execution_count": 53,
      "outputs": [
        {
          "output_type": "execute_result",
          "data": {
            "text/plain": [
              "(10590, 2)"
            ]
          },
          "metadata": {
            "tags": []
          },
          "execution_count": 53
        }
      ]
    },
    {
      "cell_type": "code",
      "metadata": {
        "id": "zDkbnXgiYVUT",
        "colab_type": "code",
        "colab": {}
      },
      "source": [
        "X_3 = dataset3['size']\n",
        "y_3 = dataset3['time']"
      ],
      "execution_count": 54,
      "outputs": []
    },
    {
      "cell_type": "code",
      "metadata": {
        "id": "1RUPlyx4YcMl",
        "colab_type": "code",
        "colab": {}
      },
      "source": [
        "X_3 = X_3.values.reshape(-1,1)\n",
        "y_3 = y_3.values.reshape(-1,1)"
      ],
      "execution_count": 55,
      "outputs": []
    },
    {
      "cell_type": "code",
      "metadata": {
        "id": "pq7V0gZXhRQd",
        "colab_type": "code",
        "colab": {
          "base_uri": "https://localhost:8080/",
          "height": 280
        },
        "outputId": "adcc2ec8-6c78-4462-a39b-a37c03c5ec8f"
      },
      "source": [
        "X_size = dataset3['size']\n",
        "y_size = dataset3['time']\n",
        "plt.scatter(X_size, y_size,  color='green')\n",
        "plt.xlabel('X_size')\n",
        "plt.ylabel('Y_size')\n",
        "plt.show()\n"
      ],
      "execution_count": 57,
      "outputs": [
        {
          "output_type": "display_data",
          "data": {
            "image/png": "[encoded data removed]",
            "text/plain": [
              "<Figure size 432x288 with 1 Axes>"
            ]
          },
          "metadata": {
            "tags": [],
            "needs_background": "light"
          }
        }
      ]
    },
    {
      "cell_type": "code",
      "metadata": {
        "id": "8K7AXXIrYfC2",
        "colab_type": "code",
        "colab": {
          "base_uri": "https://localhost:8080/",
          "height": 33
        },
        "outputId": "3041d273-dc32-48ea-936a-51ab314bb1e9"
      },
      "source": [
        "y_3_predict = model.predict(X_3)\n",
        "results = mean_absolute_error(y_3,y_3_predict)\n",
        "results"
      ],
      "execution_count": 58,
      "outputs": [
        {
          "output_type": "execute_result",
          "data": {
            "text/plain": [
              "0.12275577157511128"
            ]
          },
          "metadata": {
            "tags": []
          },
          "execution_count": 58
        }
      ]
    },
    {
      "cell_type": "markdown",
      "metadata": {
        "id": "Gjj_awrpYgzZ",
        "colab_type": "text"
      },
      "source": [
        "Kết quả tệ hơn với Data 3, Do data này có shape nhỏ hơn dataset1 , có nhiều điểm dữ kiệu gây nhiễu hơn tức là những điểm ỏ xa hơn so với những điểm còn lại"
      ]
    },
    {
      "cell_type": "markdown",
      "metadata": {
        "id": "En_tnAFQYlCa",
        "colab_type": "text"
      },
      "source": [
        "Xây dựng model mới sử dụng phương pháp tăng số features"
      ]
    },
    {
      "cell_type": "code",
      "metadata": {
        "id": "MMW7unDaYoXt",
        "colab_type": "code",
        "colab": {}
      },
      "source": [
        "dataset3['size**2']=dataset3['size']*dataset3['size']\n",
        "dataset3['size.log(size)']=dataset3['size']*np.log10(dataset3['size'])\n",
        "columns_titles = [\"size\",\"size**2\",\"size.log(size)\",\"time\"]\n",
        "dataset3=dataset3.reindex(columns=columns_titles)\n"
      ],
      "execution_count": 26,
      "outputs": []
    },
    {
      "cell_type": "code",
      "metadata": {
        "id": "3QmjN4WCYrnz",
        "colab_type": "code",
        "colab": {
          "base_uri": "https://localhost:8080/",
          "height": 345
        },
        "outputId": "6fbfe63f-92d3-40b1-8d2a-020173aff785"
      },
      "source": [
        "dataset3.head(10)"
      ],
      "execution_count": 27,
      "outputs": [
        {
          "output_type": "execute_result",
          "data": {
            "text/html": [
              "<div>\n",
              "<style scoped>\n",
              "    .dataframe tbody tr th:only-of-type {\n",
              "        vertical-align: middle;\n",
              "    }\n",
              "\n",
              "    .dataframe tbody tr th {\n",
              "        vertical-align: top;\n",
              "    }\n",
              "\n",
              "    .dataframe thead th {\n",
              "        text-align: right;\n",
              "    }\n",
              "</style>\n",
              "<table border=\"1\" class=\"dataframe\">\n",
              "  <thead>\n",
              "    <tr style=\"text-align: right;\">\n",
              "      <th></th>\n",
              "      <th>size</th>\n",
              "      <th>size**2</th>\n",
              "      <th>size.log(size)</th>\n",
              "      <th>time</th>\n",
              "    </tr>\n",
              "  </thead>\n",
              "  <tbody>\n",
              "    <tr>\n",
              "      <th>0</th>\n",
              "      <td>37837612</td>\n",
              "      <td>1431684881862544</td>\n",
              "      <td>2.867305e+08</td>\n",
              "      <td>4.12166</td>\n",
              "    </tr>\n",
              "    <tr>\n",
              "      <th>1</th>\n",
              "      <td>37395246</td>\n",
              "      <td>1398404423400516</td>\n",
              "      <td>2.831873e+08</td>\n",
              "      <td>3.92089</td>\n",
              "    </tr>\n",
              "    <tr>\n",
              "      <th>2</th>\n",
              "      <td>36610827</td>\n",
              "      <td>1340352653623929</td>\n",
              "      <td>2.769100e+08</td>\n",
              "      <td>3.21540</td>\n",
              "    </tr>\n",
              "    <tr>\n",
              "      <th>3</th>\n",
              "      <td>29555651</td>\n",
              "      <td>873536506033801</td>\n",
              "      <td>2.207996e+08</td>\n",
              "      <td>2.54506</td>\n",
              "    </tr>\n",
              "    <tr>\n",
              "      <th>4</th>\n",
              "      <td>25928216</td>\n",
              "      <td>672272384942656</td>\n",
              "      <td>1.922259e+08</td>\n",
              "      <td>2.21831</td>\n",
              "    </tr>\n",
              "    <tr>\n",
              "      <th>5</th>\n",
              "      <td>30423112</td>\n",
              "      <td>925565743764544</td>\n",
              "      <td>2.276623e+08</td>\n",
              "      <td>2.61376</td>\n",
              "    </tr>\n",
              "    <tr>\n",
              "      <th>6</th>\n",
              "      <td>21881189</td>\n",
              "      <td>478786432053721</td>\n",
              "      <td>1.606095e+08</td>\n",
              "      <td>1.85961</td>\n",
              "    </tr>\n",
              "    <tr>\n",
              "      <th>7</th>\n",
              "      <td>35810179</td>\n",
              "      <td>1282368920012041</td>\n",
              "      <td>2.705103e+08</td>\n",
              "      <td>3.14761</td>\n",
              "    </tr>\n",
              "    <tr>\n",
              "      <th>8</th>\n",
              "      <td>35355055</td>\n",
              "      <td>1249979914053025</td>\n",
              "      <td>2.668759e+08</td>\n",
              "      <td>3.07585</td>\n",
              "    </tr>\n",
              "    <tr>\n",
              "      <th>9</th>\n",
              "      <td>29399699</td>\n",
              "      <td>864342301290601</td>\n",
              "      <td>2.195670e+08</td>\n",
              "      <td>2.56714</td>\n",
              "    </tr>\n",
              "  </tbody>\n",
              "</table>\n",
              "</div>"
            ],
            "text/plain": [
              "       size           size**2  size.log(size)     time\n",
              "0  37837612  1431684881862544    2.867305e+08  4.12166\n",
              "1  37395246  1398404423400516    2.831873e+08  3.92089\n",
              "2  36610827  1340352653623929    2.769100e+08  3.21540\n",
              "3  29555651   873536506033801    2.207996e+08  2.54506\n",
              "4  25928216   672272384942656    1.922259e+08  2.21831\n",
              "5  30423112   925565743764544    2.276623e+08  2.61376\n",
              "6  21881189   478786432053721    1.606095e+08  1.85961\n",
              "7  35810179  1282368920012041    2.705103e+08  3.14761\n",
              "8  35355055  1249979914053025    2.668759e+08  3.07585\n",
              "9  29399699   864342301290601    2.195670e+08  2.56714"
            ]
          },
          "metadata": {
            "tags": []
          },
          "execution_count": 27
        }
      ]
    },
    {
      "cell_type": "code",
      "metadata": {
        "id": "38soun9NY2GV",
        "colab_type": "code",
        "colab": {}
      },
      "source": [
        "# vẫn chia data 0.65/0.35\n",
        "array = dataset3.values\n",
        "X = array[:,0:3]\n",
        "y = array[:,3]\n",
        "X_train, X_validation, Y_train, Y_validation = train_test_split(X, y, test_size=0.35 , random_state=1)"
      ],
      "execution_count": 32,
      "outputs": []
    },
    {
      "cell_type": "markdown",
      "metadata": {
        "id": "5RxWwCWbi340",
        "colab_type": "text"
      },
      "source": [
        "tăng test sizelên 0,35 cho độ chính xác cao hơn so với 0,2"
      ]
    },
    {
      "cell_type": "code",
      "metadata": {
        "id": "PhwYJVRxY3Su",
        "colab_type": "code",
        "colab": {
          "base_uri": "https://localhost:8080/",
          "height": 33
        },
        "outputId": "9440e144-6c65-4c53-805f-ebe19de9e9a6"
      },
      "source": [
        "model_new = LinearRegression()\n",
        "model_new.fit(X_train,Y_train)\n",
        "y_predict = model_new.predict(X_validation)\n",
        "results = mean_absolute_error(Y_validation,y_predict)\n",
        "results "
      ],
      "execution_count": 33,
      "outputs": [
        {
          "output_type": "execute_result",
          "data": {
            "text/plain": [
              "0.04259001707585436"
            ]
          },
          "metadata": {
            "tags": []
          },
          "execution_count": 33
        }
      ]
    },
    {
      "cell_type": "markdown",
      "metadata": {
        "id": "2OJieRLqi2yV",
        "colab_type": "text"
      },
      "source": [
        ""
      ]
    },
    {
      "cell_type": "markdown",
      "metadata": {
        "id": "nH7MV1RMY7HR",
        "colab_type": "text"
      },
      "source": [
        "Model mới có performance tốt hơn model cũ (0.0425 so với 0.122)"
      ]
    },
    {
      "cell_type": "markdown",
      "metadata": {
        "id": "W6gsWrZxZD8m",
        "colab_type": "text"
      },
      "source": [
        "Do sử dụng nhiểu feature , bộ tham số có nhiều thành phần hơn nên độ mất mát sẽ được giảm xuống "
      ]
    }
  ]
}