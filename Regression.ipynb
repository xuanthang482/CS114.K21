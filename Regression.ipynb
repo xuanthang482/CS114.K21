{
  "nbformat": 4,
  "nbformat_minor": 0,
  "metadata": {
    "colab": {
      "name": "Regression.ipynb",
      "provenance": [],
      "authorship_tag": "ABX9TyP7XeyWAN4zBh34L5MXGiDJ",
      "include_colab_link": true
    },
    "kernelspec": {
      "name": "python3",
      "display_name": "Python 3"
    }
  },
  "cells": [
    {
      "cell_type": "markdown",
      "metadata": {
        "id": "view-in-github",
        "colab_type": "text"
      },
      "source": [
        "<a href=\"https://colab.research.google.com/github/xuanthang482/CS114.K21/blob/master/Regression.ipynb\" target=\"_parent\"><img src=\"https://colab.research.google.com/assets/colab-badge.svg\" alt=\"Open In Colab\"/></a>"
      ]
    },
    {
      "cell_type": "code",
      "metadata": {
        "id": "-cxWOd9ZDndx",
        "colab_type": "code",
        "colab": {
          "base_uri": "https://localhost:8080/",
          "height": 345
        },
        "outputId": "18b867ed-bd73-404e-8f4d-e71c09c5380a"
      },
      "source": [
        "from google.colab import files\n",
        "import pandas as pd\n",
        "import numpy as np\n",
        "from matplotlib import pyplot\n",
        "from pandas.plotting import scatter_matrix"
      ],
      "execution_count": 27,
      "outputs": [
        {
          "output_type": "error",
          "ename": "ImportError",
          "evalue": "ignored",
          "traceback": [
            "\u001b[0;31m---------------------------------------------------------------------------\u001b[0m",
            "\u001b[0;31mImportError\u001b[0m                               Traceback (most recent call last)",
            "\u001b[0;32m<ipython-input-27-994f46d0aada>\u001b[0m in \u001b[0;36m<module>\u001b[0;34m()\u001b[0m\n\u001b[1;32m      3\u001b[0m \u001b[0;32mimport\u001b[0m \u001b[0mnumpy\u001b[0m \u001b[0;32mas\u001b[0m \u001b[0mnp\u001b[0m\u001b[0;34m\u001b[0m\u001b[0;34m\u001b[0m\u001b[0m\n\u001b[1;32m      4\u001b[0m \u001b[0;32mfrom\u001b[0m \u001b[0mmatplotlib\u001b[0m \u001b[0;32mimport\u001b[0m \u001b[0mpyplot\u001b[0m\u001b[0;34m\u001b[0m\u001b[0;34m\u001b[0m\u001b[0m\n\u001b[0;32m----> 5\u001b[0;31m \u001b[0;32mfrom\u001b[0m \u001b[0mmatplotlib\u001b[0m \u001b[0;32mimport\u001b[0m \u001b[0mplt\u001b[0m\u001b[0;34m\u001b[0m\u001b[0;34m\u001b[0m\u001b[0m\n\u001b[0m\u001b[1;32m      6\u001b[0m \u001b[0;32mfrom\u001b[0m \u001b[0mpandas\u001b[0m\u001b[0;34m.\u001b[0m\u001b[0mplotting\u001b[0m \u001b[0;32mimport\u001b[0m \u001b[0mscatter_matrix\u001b[0m\u001b[0;34m\u001b[0m\u001b[0;34m\u001b[0m\u001b[0m\n",
            "\u001b[0;31mImportError\u001b[0m: cannot import name 'plt'",
            "",
            "\u001b[0;31m---------------------------------------------------------------------------\u001b[0;32m\nNOTE: If your import is failing due to a missing package, you can\nmanually install dependencies using either !pip or !apt.\n\nTo view examples of installing some common dependencies, click the\n\"Open Examples\" button below.\n\u001b[0;31m---------------------------------------------------------------------------\u001b[0m\n"
          ]
        }
      ]
    },
    {
      "cell_type": "code",
      "metadata": {
        "id": "-K6p1pdtCprP",
        "colab_type": "code",
        "colab": {}
      },
      "source": [
        "# Load dataset\n",
        "dataset = pd.read_csv('https://cs.uit.edu.vn/data.txt',names= ['size','time'])"
      ],
      "execution_count": 0,
      "outputs": []
    },
    {
      "cell_type": "code",
      "metadata": {
        "id": "Slw5HwPgD5b7",
        "colab_type": "code",
        "colab": {
          "base_uri": "https://localhost:8080/",
          "height": 942
        },
        "outputId": "3e2ad0a4-6115-4ee4-e077-7907f74601a8"
      },
      "source": [
        "dataset.head(30)"
      ],
      "execution_count": 6,
      "outputs": [
        {
          "output_type": "execute_result",
          "data": {
            "text/html": [
              "<div>\n",
              "<style scoped>\n",
              "    .dataframe tbody tr th:only-of-type {\n",
              "        vertical-align: middle;\n",
              "    }\n",
              "\n",
              "    .dataframe tbody tr th {\n",
              "        vertical-align: top;\n",
              "    }\n",
              "\n",
              "    .dataframe thead th {\n",
              "        text-align: right;\n",
              "    }\n",
              "</style>\n",
              "<table border=\"1\" class=\"dataframe\">\n",
              "  <thead>\n",
              "    <tr style=\"text-align: right;\">\n",
              "      <th></th>\n",
              "      <th>size</th>\n",
              "      <th>time</th>\n",
              "    </tr>\n",
              "  </thead>\n",
              "  <tbody>\n",
              "    <tr>\n",
              "      <th>0</th>\n",
              "      <td>4032139</td>\n",
              "      <td>1.200580</td>\n",
              "    </tr>\n",
              "    <tr>\n",
              "      <th>1</th>\n",
              "      <td>2055486</td>\n",
              "      <td>0.509774</td>\n",
              "    </tr>\n",
              "    <tr>\n",
              "      <th>2</th>\n",
              "      <td>5626651</td>\n",
              "      <td>1.476080</td>\n",
              "    </tr>\n",
              "    <tr>\n",
              "      <th>3</th>\n",
              "      <td>42065</td>\n",
              "      <td>0.007651</td>\n",
              "    </tr>\n",
              "    <tr>\n",
              "      <th>4</th>\n",
              "      <td>6297788</td>\n",
              "      <td>1.661560</td>\n",
              "    </tr>\n",
              "    <tr>\n",
              "      <th>5</th>\n",
              "      <td>8871407</td>\n",
              "      <td>2.653120</td>\n",
              "    </tr>\n",
              "    <tr>\n",
              "      <th>6</th>\n",
              "      <td>3106899</td>\n",
              "      <td>0.801168</td>\n",
              "    </tr>\n",
              "    <tr>\n",
              "      <th>7</th>\n",
              "      <td>2410855</td>\n",
              "      <td>0.598170</td>\n",
              "    </tr>\n",
              "    <tr>\n",
              "      <th>8</th>\n",
              "      <td>558704</td>\n",
              "      <td>0.129056</td>\n",
              "    </tr>\n",
              "    <tr>\n",
              "      <th>9</th>\n",
              "      <td>9012730</td>\n",
              "      <td>2.477870</td>\n",
              "    </tr>\n",
              "    <tr>\n",
              "      <th>10</th>\n",
              "      <td>6099403</td>\n",
              "      <td>1.631770</td>\n",
              "    </tr>\n",
              "    <tr>\n",
              "      <th>11</th>\n",
              "      <td>7189925</td>\n",
              "      <td>1.940180</td>\n",
              "    </tr>\n",
              "    <tr>\n",
              "      <th>12</th>\n",
              "      <td>3759151</td>\n",
              "      <td>0.978011</td>\n",
              "    </tr>\n",
              "    <tr>\n",
              "      <th>13</th>\n",
              "      <td>8004274</td>\n",
              "      <td>2.202210</td>\n",
              "    </tr>\n",
              "    <tr>\n",
              "      <th>14</th>\n",
              "      <td>4125525</td>\n",
              "      <td>1.059360</td>\n",
              "    </tr>\n",
              "    <tr>\n",
              "      <th>15</th>\n",
              "      <td>7580493</td>\n",
              "      <td>2.084130</td>\n",
              "    </tr>\n",
              "    <tr>\n",
              "      <th>16</th>\n",
              "      <td>9045670</td>\n",
              "      <td>2.461290</td>\n",
              "    </tr>\n",
              "    <tr>\n",
              "      <th>17</th>\n",
              "      <td>2987773</td>\n",
              "      <td>0.768997</td>\n",
              "    </tr>\n",
              "    <tr>\n",
              "      <th>18</th>\n",
              "      <td>2956967</td>\n",
              "      <td>0.780160</td>\n",
              "    </tr>\n",
              "    <tr>\n",
              "      <th>19</th>\n",
              "      <td>1941281</td>\n",
              "      <td>0.477229</td>\n",
              "    </tr>\n",
              "    <tr>\n",
              "      <th>20</th>\n",
              "      <td>8114281</td>\n",
              "      <td>2.200890</td>\n",
              "    </tr>\n",
              "    <tr>\n",
              "      <th>21</th>\n",
              "      <td>4266506</td>\n",
              "      <td>1.095930</td>\n",
              "    </tr>\n",
              "    <tr>\n",
              "      <th>22</th>\n",
              "      <td>875524</td>\n",
              "      <td>0.200900</td>\n",
              "    </tr>\n",
              "    <tr>\n",
              "      <th>23</th>\n",
              "      <td>7067836</td>\n",
              "      <td>1.908750</td>\n",
              "    </tr>\n",
              "    <tr>\n",
              "      <th>24</th>\n",
              "      <td>1380084</td>\n",
              "      <td>0.364717</td>\n",
              "    </tr>\n",
              "    <tr>\n",
              "      <th>25</th>\n",
              "      <td>8178770</td>\n",
              "      <td>2.222240</td>\n",
              "    </tr>\n",
              "    <tr>\n",
              "      <th>26</th>\n",
              "      <td>1411049</td>\n",
              "      <td>0.342230</td>\n",
              "    </tr>\n",
              "    <tr>\n",
              "      <th>27</th>\n",
              "      <td>4234128</td>\n",
              "      <td>1.107460</td>\n",
              "    </tr>\n",
              "    <tr>\n",
              "      <th>28</th>\n",
              "      <td>7753911</td>\n",
              "      <td>2.113360</td>\n",
              "    </tr>\n",
              "    <tr>\n",
              "      <th>29</th>\n",
              "      <td>7899078</td>\n",
              "      <td>2.133440</td>\n",
              "    </tr>\n",
              "  </tbody>\n",
              "</table>\n",
              "</div>"
            ],
            "text/plain": [
              "       size      time\n",
              "0   4032139  1.200580\n",
              "1   2055486  0.509774\n",
              "2   5626651  1.476080\n",
              "3     42065  0.007651\n",
              "4   6297788  1.661560\n",
              "5   8871407  2.653120\n",
              "6   3106899  0.801168\n",
              "7   2410855  0.598170\n",
              "8    558704  0.129056\n",
              "9   9012730  2.477870\n",
              "10  6099403  1.631770\n",
              "11  7189925  1.940180\n",
              "12  3759151  0.978011\n",
              "13  8004274  2.202210\n",
              "14  4125525  1.059360\n",
              "15  7580493  2.084130\n",
              "16  9045670  2.461290\n",
              "17  2987773  0.768997\n",
              "18  2956967  0.780160\n",
              "19  1941281  0.477229\n",
              "20  8114281  2.200890\n",
              "21  4266506  1.095930\n",
              "22   875524  0.200900\n",
              "23  7067836  1.908750\n",
              "24  1380084  0.364717\n",
              "25  8178770  2.222240\n",
              "26  1411049  0.342230\n",
              "27  4234128  1.107460\n",
              "28  7753911  2.113360\n",
              "29  7899078  2.133440"
            ]
          },
          "metadata": {
            "tags": []
          },
          "execution_count": 6
        }
      ]
    },
    {
      "cell_type": "code",
      "metadata": {
        "id": "Q0AV8k_DGH0S",
        "colab_type": "code",
        "colab": {
          "base_uri": "https://localhost:8080/",
          "height": 33
        },
        "outputId": "f41bcb8f-6ac5-49c8-c8fd-6f201904dcb1"
      },
      "source": [
        "print(dataset.shape)"
      ],
      "execution_count": 7,
      "outputs": [
        {
          "output_type": "stream",
          "text": [
            "(5211, 2)\n"
          ],
          "name": "stdout"
        }
      ]
    },
    {
      "cell_type": "code",
      "metadata": {
        "id": "KWg0DBl5K0S_",
        "colab_type": "code",
        "colab": {
          "base_uri": "https://localhost:8080/",
          "height": 404
        },
        "outputId": "285182e4-bf66-43a3-b049-b8c0ea9fb356"
      },
      "source": [
        "dataset['size2'] = dataset['size']*dataset['size']\n",
        "dataset['sizeLogsize'] = dataset['size']*np.log10(dataset['size'])\n",
        "dataset\n"
      ],
      "execution_count": 8,
      "outputs": [
        {
          "output_type": "execute_result",
          "data": {
            "text/html": [
              "<div>\n",
              "<style scoped>\n",
              "    .dataframe tbody tr th:only-of-type {\n",
              "        vertical-align: middle;\n",
              "    }\n",
              "\n",
              "    .dataframe tbody tr th {\n",
              "        vertical-align: top;\n",
              "    }\n",
              "\n",
              "    .dataframe thead th {\n",
              "        text-align: right;\n",
              "    }\n",
              "</style>\n",
              "<table border=\"1\" class=\"dataframe\">\n",
              "  <thead>\n",
              "    <tr style=\"text-align: right;\">\n",
              "      <th></th>\n",
              "      <th>size</th>\n",
              "      <th>time</th>\n",
              "      <th>size2</th>\n",
              "      <th>sizeLogsize</th>\n",
              "    </tr>\n",
              "  </thead>\n",
              "  <tbody>\n",
              "    <tr>\n",
              "      <th>0</th>\n",
              "      <td>4032139</td>\n",
              "      <td>1.200580</td>\n",
              "      <td>16258144915321</td>\n",
              "      <td>2.663444e+07</td>\n",
              "    </tr>\n",
              "    <tr>\n",
              "      <th>1</th>\n",
              "      <td>2055486</td>\n",
              "      <td>0.509774</td>\n",
              "      <td>4225022696196</td>\n",
              "      <td>1.297611e+07</td>\n",
              "    </tr>\n",
              "    <tr>\n",
              "      <th>2</th>\n",
              "      <td>5626651</td>\n",
              "      <td>1.476080</td>\n",
              "      <td>31659201475801</td>\n",
              "      <td>3.798130e+07</td>\n",
              "    </tr>\n",
              "    <tr>\n",
              "      <th>3</th>\n",
              "      <td>42065</td>\n",
              "      <td>0.007651</td>\n",
              "      <td>1769464225</td>\n",
              "      <td>1.945052e+05</td>\n",
              "    </tr>\n",
              "    <tr>\n",
              "      <th>4</th>\n",
              "      <td>6297788</td>\n",
              "      <td>1.661560</td>\n",
              "      <td>39662133692944</td>\n",
              "      <td>4.281984e+07</td>\n",
              "    </tr>\n",
              "    <tr>\n",
              "      <th>...</th>\n",
              "      <td>...</td>\n",
              "      <td>...</td>\n",
              "      <td>...</td>\n",
              "      <td>...</td>\n",
              "    </tr>\n",
              "    <tr>\n",
              "      <th>5206</th>\n",
              "      <td>6600098</td>\n",
              "      <td>1.804520</td>\n",
              "      <td>43561293609604</td>\n",
              "      <td>4.500970e+07</td>\n",
              "    </tr>\n",
              "    <tr>\n",
              "      <th>5207</th>\n",
              "      <td>5339132</td>\n",
              "      <td>1.450310</td>\n",
              "      <td>28506330513424</td>\n",
              "      <td>3.591885e+07</td>\n",
              "    </tr>\n",
              "    <tr>\n",
              "      <th>5208</th>\n",
              "      <td>4794647</td>\n",
              "      <td>1.293070</td>\n",
              "      <td>22988639854609</td>\n",
              "      <td>3.203187e+07</td>\n",
              "    </tr>\n",
              "    <tr>\n",
              "      <th>5209</th>\n",
              "      <td>4440131</td>\n",
              "      <td>1.196530</td>\n",
              "      <td>19714763297161</td>\n",
              "      <td>2.951531e+07</td>\n",
              "    </tr>\n",
              "    <tr>\n",
              "      <th>5210</th>\n",
              "      <td>2033708</td>\n",
              "      <td>0.517288</td>\n",
              "      <td>4135968229264</td>\n",
              "      <td>1.282922e+07</td>\n",
              "    </tr>\n",
              "  </tbody>\n",
              "</table>\n",
              "<p>5211 rows × 4 columns</p>\n",
              "</div>"
            ],
            "text/plain": [
              "         size      time           size2   sizeLogsize\n",
              "0     4032139  1.200580  16258144915321  2.663444e+07\n",
              "1     2055486  0.509774   4225022696196  1.297611e+07\n",
              "2     5626651  1.476080  31659201475801  3.798130e+07\n",
              "3       42065  0.007651      1769464225  1.945052e+05\n",
              "4     6297788  1.661560  39662133692944  4.281984e+07\n",
              "...       ...       ...             ...           ...\n",
              "5206  6600098  1.804520  43561293609604  4.500970e+07\n",
              "5207  5339132  1.450310  28506330513424  3.591885e+07\n",
              "5208  4794647  1.293070  22988639854609  3.203187e+07\n",
              "5209  4440131  1.196530  19714763297161  2.951531e+07\n",
              "5210  2033708  0.517288   4135968229264  1.282922e+07\n",
              "\n",
              "[5211 rows x 4 columns]"
            ]
          },
          "metadata": {
            "tags": []
          },
          "execution_count": 8
        }
      ]
    },
    {
      "cell_type": "code",
      "metadata": {
        "id": "nFC1gzNoTLnr",
        "colab_type": "code",
        "colab": {}
      },
      "source": [
        "dataset = pd.DataFrame(dataset, columns=['size2', 'sizeLogsize', 'size', 'time'])"
      ],
      "execution_count": 0,
      "outputs": []
    },
    {
      "cell_type": "code",
      "metadata": {
        "id": "kF_vHlccTPYD",
        "colab_type": "code",
        "colab": {
          "base_uri": "https://localhost:8080/",
          "height": 345
        },
        "outputId": "d0764ed9-df26-41f8-dccb-c0d73bffe84c"
      },
      "source": [
        "dataset.head(10)"
      ],
      "execution_count": 11,
      "outputs": [
        {
          "output_type": "execute_result",
          "data": {
            "text/html": [
              "<div>\n",
              "<style scoped>\n",
              "    .dataframe tbody tr th:only-of-type {\n",
              "        vertical-align: middle;\n",
              "    }\n",
              "\n",
              "    .dataframe tbody tr th {\n",
              "        vertical-align: top;\n",
              "    }\n",
              "\n",
              "    .dataframe thead th {\n",
              "        text-align: right;\n",
              "    }\n",
              "</style>\n",
              "<table border=\"1\" class=\"dataframe\">\n",
              "  <thead>\n",
              "    <tr style=\"text-align: right;\">\n",
              "      <th></th>\n",
              "      <th>size2</th>\n",
              "      <th>sizeLogsize</th>\n",
              "      <th>size</th>\n",
              "      <th>time</th>\n",
              "    </tr>\n",
              "  </thead>\n",
              "  <tbody>\n",
              "    <tr>\n",
              "      <th>0</th>\n",
              "      <td>16258144915321</td>\n",
              "      <td>2.663444e+07</td>\n",
              "      <td>4032139</td>\n",
              "      <td>1.200580</td>\n",
              "    </tr>\n",
              "    <tr>\n",
              "      <th>1</th>\n",
              "      <td>4225022696196</td>\n",
              "      <td>1.297611e+07</td>\n",
              "      <td>2055486</td>\n",
              "      <td>0.509774</td>\n",
              "    </tr>\n",
              "    <tr>\n",
              "      <th>2</th>\n",
              "      <td>31659201475801</td>\n",
              "      <td>3.798130e+07</td>\n",
              "      <td>5626651</td>\n",
              "      <td>1.476080</td>\n",
              "    </tr>\n",
              "    <tr>\n",
              "      <th>3</th>\n",
              "      <td>1769464225</td>\n",
              "      <td>1.945052e+05</td>\n",
              "      <td>42065</td>\n",
              "      <td>0.007651</td>\n",
              "    </tr>\n",
              "    <tr>\n",
              "      <th>4</th>\n",
              "      <td>39662133692944</td>\n",
              "      <td>4.281984e+07</td>\n",
              "      <td>6297788</td>\n",
              "      <td>1.661560</td>\n",
              "    </tr>\n",
              "    <tr>\n",
              "      <th>5</th>\n",
              "      <td>78701862159649</td>\n",
              "      <td>6.163847e+07</td>\n",
              "      <td>8871407</td>\n",
              "      <td>2.653120</td>\n",
              "    </tr>\n",
              "    <tr>\n",
              "      <th>6</th>\n",
              "      <td>9652821396201</td>\n",
              "      <td>2.017100e+07</td>\n",
              "      <td>3106899</td>\n",
              "      <td>0.801168</td>\n",
              "    </tr>\n",
              "    <tr>\n",
              "      <th>7</th>\n",
              "      <td>5812221831025</td>\n",
              "      <td>1.538649e+07</td>\n",
              "      <td>2410855</td>\n",
              "      <td>0.598170</td>\n",
              "    </tr>\n",
              "    <tr>\n",
              "      <th>8</th>\n",
              "      <td>312150159616</td>\n",
              "      <td>3.210973e+06</td>\n",
              "      <td>558704</td>\n",
              "      <td>0.129056</td>\n",
              "    </tr>\n",
              "    <tr>\n",
              "      <th>9</th>\n",
              "      <td>81229302052900</td>\n",
              "      <td>6.268224e+07</td>\n",
              "      <td>9012730</td>\n",
              "      <td>2.477870</td>\n",
              "    </tr>\n",
              "  </tbody>\n",
              "</table>\n",
              "</div>"
            ],
            "text/plain": [
              "            size2   sizeLogsize     size      time\n",
              "0  16258144915321  2.663444e+07  4032139  1.200580\n",
              "1   4225022696196  1.297611e+07  2055486  0.509774\n",
              "2  31659201475801  3.798130e+07  5626651  1.476080\n",
              "3      1769464225  1.945052e+05    42065  0.007651\n",
              "4  39662133692944  4.281984e+07  6297788  1.661560\n",
              "5  78701862159649  6.163847e+07  8871407  2.653120\n",
              "6   9652821396201  2.017100e+07  3106899  0.801168\n",
              "7   5812221831025  1.538649e+07  2410855  0.598170\n",
              "8    312150159616  3.210973e+06   558704  0.129056\n",
              "9  81229302052900  6.268224e+07  9012730  2.477870"
            ]
          },
          "metadata": {
            "tags": []
          },
          "execution_count": 11
        }
      ]
    },
    {
      "cell_type": "code",
      "metadata": {
        "id": "5nJCnLA1K6xE",
        "colab_type": "code",
        "colab": {
          "base_uri": "https://localhost:8080/",
          "height": 276
        },
        "outputId": "d4b0f7c0-e36f-41db-a3e5-ec354b33a6ca"
      },
      "source": [
        "# box and whisker plots\n",
        "dataset.plot( subplots=True, layout=(1,4), sharex=False, sharey=False)\n",
        "pyplot.show()"
      ],
      "execution_count": 12,
      "outputs": [
        {
          "output_type": "display_data",
          "data": {
            "image/png": "[encoded data removed]",
            "text/plain": [
              "<Figure size 432x288 with 4 Axes>"
            ]
          },
          "metadata": {
            "tags": [],
            "needs_background": "light"
          }
        }
      ]
    },
    {
      "cell_type": "code",
      "metadata": {
        "id": "L7fgeamWLFDp",
        "colab_type": "code",
        "colab": {
          "base_uri": "https://localhost:8080/",
          "height": 277
        },
        "outputId": "9ea7bb88-7472-4a04-ce37-9aec5cff138e"
      },
      "source": [
        "# scatter plot matrix\n",
        "scatter_matrix(dataset)\n",
        "pyplot.show()"
      ],
      "execution_count": 13,
      "outputs": [
        {
          "output_type": "display_data",
          "data": {
            "image/png": "[encoded data removed]",
            "text/plain": [
              "<Figure size 432x288 with 16 Axes>"
            ]
          },
          "metadata": {
            "tags": [],
            "needs_background": "light"
          }
        }
      ]
    },
    {
      "cell_type": "code",
      "metadata": {
        "id": "sBh9Y7vTHBbX",
        "colab_type": "code",
        "colab": {}
      },
      "source": [
        "from sklearn.model_selection import train_test_split\n",
        "from sklearn.metrics import mean_absolute_error\n",
        "from sklearn.metrics import accuracy_score\n",
        "from sklearn.linear_model import LinearRegression\n",
        "from sklearn.linear_model import LogisticRegression\n",
        "from sklearn.tree import DecisionTreeRegressor\n",
        "from sklearn.svm  import SVR\n",
        "from sklearn.ensemble import RandomForestRegressor\n",
        "from sklearn.neighbors import KNeighborsRegressor\n",
        "from sklearn.naive_bayes import GaussianNB\n",
        "from sklearn.discriminant_analysis import LinearDiscriminantAnalysis"
      ],
      "execution_count": 0,
      "outputs": []
    },
    {
      "cell_type": "code",
      "metadata": {
        "id": "QE1O_PklSgd6",
        "colab_type": "code",
        "colab": {}
      },
      "source": [
        "# Split-out validation dataset\n",
        "array = dataset.values\n",
        "X = array[:,0:3]\n",
        "y = array[:,3]\n",
        "X_train, X_validation, Y_train, Y_validation = train_test_split(X, y, test_size=0.20 , random_state=1)"
      ],
      "execution_count": 0,
      "outputs": []
    },
    {
      "cell_type": "code",
      "metadata": {
        "id": "MJ44VPg3WAsk",
        "colab_type": "code",
        "colab": {}
      },
      "source": [
        "models = []\n",
        "models.append(('LR', LinearRegression()))\n",
        "models.append(('DTreeR', DecisionTreeRegressor()))\n",
        "models.append(('SVR', SVR()))\n",
        "models.append(('RForestR', RandomForestRegressor()))\n",
        "models.append(('KNR', KNeighborsRegressor()))"
      ],
      "execution_count": 0,
      "outputs": []
    },
    {
      "cell_type": "code",
      "metadata": {
        "id": "jlXMhXsEUYih",
        "colab_type": "code",
        "colab": {}
      },
      "source": [
        "r = {}\n",
        "for name, model in models:\n",
        "  model.fit(X_train, Y_train)\n",
        "  pred = model.predict(X_validation)\n",
        "  mae = mean_absolute_error(Y_validation, pred)\n",
        "  r[name]= mae"
      ],
      "execution_count": 0,
      "outputs": []
    },
    {
      "cell_type": "code",
      "metadata": {
        "id": "eSX-NI9UW6ui",
        "colab_type": "code",
        "colab": {
          "base_uri": "https://localhost:8080/",
          "height": 265
        },
        "outputId": "130ddaa3-1282-4348-c69e-b6f10479fbfe"
      },
      "source": [
        "pyplot.bar(r.keys(), r.values(), width=0.3)\n",
        "pyplot.show()"
      ],
      "execution_count": 34,
      "outputs": [
        {
          "output_type": "display_data",
          "data": {
            "image/png": "[encoded data removed]",
            "text/plain": [
              "<Figure size 432x288 with 1 Axes>"
            ]
          },
          "metadata": {
            "tags": [],
            "needs_background": "light"
          }
        }
      ]
    }
  ]
}