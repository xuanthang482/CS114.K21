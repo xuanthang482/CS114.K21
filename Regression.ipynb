{
  "nbformat": 4,
  "nbformat_minor": 0,
  "metadata": {
    "colab": {
      "name": "Regression.ipynb",
      "provenance": [],
      "authorship_tag": "ABX9TyPUd9NJUc1XZxhEjCAn7BaP",
      "include_colab_link": true
    },
    "kernelspec": {
      "name": "python3",
      "display_name": "Python 3"
    }
  },
  "cells": [
    {
      "cell_type": "markdown",
      "metadata": {
        "id": "view-in-github",
        "colab_type": "text"
      },
      "source": [
        "<a href=\"https://colab.research.google.com/github/xuanthang482/CS114.K21/blob/master/Regression.ipynb\" target=\"_parent\"><img src=\"https://colab.research.google.com/assets/colab-badge.svg\" alt=\"Open In Colab\"/></a>"
      ]
    },
    {
      "cell_type": "markdown",
      "metadata": {
        "id": "yk7MN028XS80",
        "colab_type": "text"
      },
      "source": [
        "import các thư viện cần thiết ,model , hàm chia data , hàm tính sai số"
      ]
    },
    {
      "cell_type": "code",
      "metadata": {
        "id": "R7NizxdzXV_l",
        "colab_type": "code",
        "colab": {}
      },
      "source": [
        "import pandas as pd\n",
        "import numpy as np\n",
        "import matplotlib.pyplot as plt\n",
        "from pandas.plotting import scatter_matrix\n",
        "from sklearn.model_selection import train_test_split\n",
        "from sklearn.linear_model import LinearRegression\n",
        "from sklearn.metrics import mean_absolute_error"
      ],
      "execution_count": 0,
      "outputs": []
    },
    {
      "cell_type": "markdown",
      "metadata": {
        "id": "AELfSpF2XchE",
        "colab_type": "text"
      },
      "source": [
        "Lấy dữ liệu xuống thế nào?\n",
        "\n",
        "load dữ liệu từ url , dùng hàm read_csv để đọc data"
      ]
    },
    {
      "cell_type": "code",
      "metadata": {
        "id": "Rp-uCgnYXeBD",
        "colab_type": "code",
        "colab": {}
      },
      "source": [
        "dataset = pd.read_csv(\"http://cs.uit.edu.vn/data2.txt\", names =['size', 'time'] )"
      ],
      "execution_count": 0,
      "outputs": []
    },
    {
      "cell_type": "code",
      "metadata": {
        "id": "4oDzhSI3Ximb",
        "colab_type": "code",
        "colab": {
          "base_uri": "https://localhost:8080/",
          "height": 345
        },
        "outputId": "e4b2d5ea-d63d-4f86-c6d3-743a836308a1"
      },
      "source": [
        "dataset.head(10)"
      ],
      "execution_count": 28,
      "outputs": [
        {
          "output_type": "execute_result",
          "data": {
            "text/html": [
              "<div>\n",
              "<style scoped>\n",
              "    .dataframe tbody tr th:only-of-type {\n",
              "        vertical-align: middle;\n",
              "    }\n",
              "\n",
              "    .dataframe tbody tr th {\n",
              "        vertical-align: top;\n",
              "    }\n",
              "\n",
              "    .dataframe thead th {\n",
              "        text-align: right;\n",
              "    }\n",
              "</style>\n",
              "<table border=\"1\" class=\"dataframe\">\n",
              "  <thead>\n",
              "    <tr style=\"text-align: right;\">\n",
              "      <th></th>\n",
              "      <th>size</th>\n",
              "      <th>time</th>\n",
              "    </tr>\n",
              "  </thead>\n",
              "  <tbody>\n",
              "    <tr>\n",
              "      <th>0</th>\n",
              "      <td>6083695</td>\n",
              "      <td>0.521842</td>\n",
              "    </tr>\n",
              "    <tr>\n",
              "      <th>1</th>\n",
              "      <td>1954367</td>\n",
              "      <td>0.152648</td>\n",
              "    </tr>\n",
              "    <tr>\n",
              "      <th>2</th>\n",
              "      <td>3734185</td>\n",
              "      <td>0.298548</td>\n",
              "    </tr>\n",
              "    <tr>\n",
              "      <th>3</th>\n",
              "      <td>5839301</td>\n",
              "      <td>0.460480</td>\n",
              "    </tr>\n",
              "    <tr>\n",
              "      <th>4</th>\n",
              "      <td>6343427</td>\n",
              "      <td>0.527977</td>\n",
              "    </tr>\n",
              "    <tr>\n",
              "      <th>5</th>\n",
              "      <td>1355574</td>\n",
              "      <td>0.098012</td>\n",
              "    </tr>\n",
              "    <tr>\n",
              "      <th>6</th>\n",
              "      <td>725488</td>\n",
              "      <td>0.048238</td>\n",
              "    </tr>\n",
              "    <tr>\n",
              "      <th>7</th>\n",
              "      <td>1191887</td>\n",
              "      <td>0.089304</td>\n",
              "    </tr>\n",
              "    <tr>\n",
              "      <th>8</th>\n",
              "      <td>4556292</td>\n",
              "      <td>0.378561</td>\n",
              "    </tr>\n",
              "    <tr>\n",
              "      <th>9</th>\n",
              "      <td>9989596</td>\n",
              "      <td>0.832734</td>\n",
              "    </tr>\n",
              "  </tbody>\n",
              "</table>\n",
              "</div>"
            ],
            "text/plain": [
              "      size      time\n",
              "0  6083695  0.521842\n",
              "1  1954367  0.152648\n",
              "2  3734185  0.298548\n",
              "3  5839301  0.460480\n",
              "4  6343427  0.527977\n",
              "5  1355574  0.098012\n",
              "6   725488  0.048238\n",
              "7  1191887  0.089304\n",
              "8  4556292  0.378561\n",
              "9  9989596  0.832734"
            ]
          },
          "metadata": {
            "tags": []
          },
          "execution_count": 28
        }
      ]
    },
    {
      "cell_type": "code",
      "metadata": {
        "id": "DkoQi9ekXouD",
        "colab_type": "code",
        "colab": {
          "base_uri": "https://localhost:8080/",
          "height": 33
        },
        "outputId": "defb6698-9e40-42d0-f844-c98676339022"
      },
      "source": [
        "dataset.shape"
      ],
      "execution_count": 29,
      "outputs": [
        {
          "output_type": "execute_result",
          "data": {
            "text/plain": [
              "(71115, 2)"
            ]
          },
          "metadata": {
            "tags": []
          },
          "execution_count": 29
        }
      ]
    },
    {
      "cell_type": "markdown",
      "metadata": {
        "id": "Pdxq9GFWXsgC",
        "colab_type": "text"
      },
      "source": [
        "Chọn model và train thế nào? \n",
        "\n"
      ]
    },
    {
      "cell_type": "code",
      "metadata": {
        "id": "rrumrirrXuB3",
        "colab_type": "code",
        "colab": {}
      },
      "source": [
        "# Chia data theo tỉ lệ 8/2\n",
        "X = dataset['size']\n",
        "y = dataset['time']\n",
        "X_train, X_validation, Y_train, Y_validation = train_test_split(X, y, test_size=0.20, random_state=1)\n",
        "#vì data chỉ có 1 cột nên phải reshape\n",
        "X_train = X_train.values.reshape(-1,1)\n",
        "X_validation = X_validation.values.reshape(-1,1)\n",
        "Y_train = Y_train.values.reshape(-1,1)\n",
        "Y_validation = Y_validation.values.reshape(-1,1)\n"
      ],
      "execution_count": 0,
      "outputs": []
    },
    {
      "cell_type": "markdown",
      "metadata": {
        "id": "BywtfEmrX4s0",
        "colab_type": "text"
      },
      "source": [
        "Viết ứng dụng thực hiện việc predict cho một mẫu dữ liệu mới thế nào?\n",
        "\n",
        "*   Tạo ra 1 mẫu dữ liệu mới bằng biến test\n",
        "*   Cho test vô model để dự đoán\n",
        "\n"
      ]
    },
    {
      "cell_type": "code",
      "metadata": {
        "id": "-Cy38UUfX6bx",
        "colab_type": "code",
        "colab": {
          "base_uri": "https://localhost:8080/",
          "height": 50
        },
        "outputId": "b75ccb2e-8cfe-499b-f132-2631f3e06786"
      },
      "source": [
        "test = [[115679]]\n",
        "model = LinearRegression()\n",
        "model.fit(X_train,Y_train)\n",
        "pre=model.predict(X_validation)\n",
        "result=mean_absolute_error(pre, Y_validation)\n",
        "print(result)\n",
        "a = model.predict(test)\n",
        "print(a)"
      ],
      "execution_count": 31,
      "outputs": [
        {
          "output_type": "stream",
          "text": [
            "0.00831551754510758\n",
            "[[-0.0061324]]\n"
          ],
          "name": "stdout"
        }
      ]
    },
    {
      "cell_type": "markdown",
      "metadata": {
        "id": "cLb9lHDOYCAV",
        "colab_type": "text"
      },
      "source": [
        "Khả năng dự đoán của ứng dụng là tốt hay không? Làm sao biết?\n",
        "\n",
        "*   Khả năng dự đoán của model là tốt\n",
        "*   Ở bước đánh giá model đã đánh giá giá trị mean absolute error của model linear regression là rất thấp ~ 0.0083\n",
        "\n"
      ]
    },
    {
      "cell_type": "markdown",
      "metadata": {
        "id": "6RbUreLWYI5H",
        "colab_type": "text"
      },
      "source": [
        "ROUND 3\n"
      ]
    },
    {
      "cell_type": "code",
      "metadata": {
        "id": "J2gAwJnXYEWG",
        "colab_type": "code",
        "colab": {}
      },
      "source": [
        "dataset3 = pd.read_csv(\"http://cs.uit.edu.vn/data3.txt\",sep=\",\", names =['size', 'time'] )"
      ],
      "execution_count": 0,
      "outputs": []
    },
    {
      "cell_type": "code",
      "metadata": {
        "id": "H35puKu_YOEL",
        "colab_type": "code",
        "colab": {
          "base_uri": "https://localhost:8080/",
          "height": 345
        },
        "outputId": "3ee7a733-7a18-466e-ea3c-9faa260432d5"
      },
      "source": [
        "dataset3.head(10)"
      ],
      "execution_count": 33,
      "outputs": [
        {
          "output_type": "execute_result",
          "data": {
            "text/html": [
              "<div>\n",
              "<style scoped>\n",
              "    .dataframe tbody tr th:only-of-type {\n",
              "        vertical-align: middle;\n",
              "    }\n",
              "\n",
              "    .dataframe tbody tr th {\n",
              "        vertical-align: top;\n",
              "    }\n",
              "\n",
              "    .dataframe thead th {\n",
              "        text-align: right;\n",
              "    }\n",
              "</style>\n",
              "<table border=\"1\" class=\"dataframe\">\n",
              "  <thead>\n",
              "    <tr style=\"text-align: right;\">\n",
              "      <th></th>\n",
              "      <th>size</th>\n",
              "      <th>time</th>\n",
              "    </tr>\n",
              "  </thead>\n",
              "  <tbody>\n",
              "    <tr>\n",
              "      <th>0</th>\n",
              "      <td>37837612</td>\n",
              "      <td>4.12166</td>\n",
              "    </tr>\n",
              "    <tr>\n",
              "      <th>1</th>\n",
              "      <td>37395246</td>\n",
              "      <td>3.92089</td>\n",
              "    </tr>\n",
              "    <tr>\n",
              "      <th>2</th>\n",
              "      <td>36610827</td>\n",
              "      <td>3.21540</td>\n",
              "    </tr>\n",
              "    <tr>\n",
              "      <th>3</th>\n",
              "      <td>29555651</td>\n",
              "      <td>2.54506</td>\n",
              "    </tr>\n",
              "    <tr>\n",
              "      <th>4</th>\n",
              "      <td>25928216</td>\n",
              "      <td>2.21831</td>\n",
              "    </tr>\n",
              "    <tr>\n",
              "      <th>5</th>\n",
              "      <td>30423112</td>\n",
              "      <td>2.61376</td>\n",
              "    </tr>\n",
              "    <tr>\n",
              "      <th>6</th>\n",
              "      <td>21881189</td>\n",
              "      <td>1.85961</td>\n",
              "    </tr>\n",
              "    <tr>\n",
              "      <th>7</th>\n",
              "      <td>35810179</td>\n",
              "      <td>3.14761</td>\n",
              "    </tr>\n",
              "    <tr>\n",
              "      <th>8</th>\n",
              "      <td>35355055</td>\n",
              "      <td>3.07585</td>\n",
              "    </tr>\n",
              "    <tr>\n",
              "      <th>9</th>\n",
              "      <td>29399699</td>\n",
              "      <td>2.56714</td>\n",
              "    </tr>\n",
              "  </tbody>\n",
              "</table>\n",
              "</div>"
            ],
            "text/plain": [
              "       size     time\n",
              "0  37837612  4.12166\n",
              "1  37395246  3.92089\n",
              "2  36610827  3.21540\n",
              "3  29555651  2.54506\n",
              "4  25928216  2.21831\n",
              "5  30423112  2.61376\n",
              "6  21881189  1.85961\n",
              "7  35810179  3.14761\n",
              "8  35355055  3.07585\n",
              "9  29399699  2.56714"
            ]
          },
          "metadata": {
            "tags": []
          },
          "execution_count": 33
        }
      ]
    },
    {
      "cell_type": "code",
      "metadata": {
        "id": "D6n491EBYSpB",
        "colab_type": "code",
        "colab": {
          "base_uri": "https://localhost:8080/",
          "height": 33
        },
        "outputId": "47fad816-ed6b-4298-9700-e0afb4f43076"
      },
      "source": [
        "dataset3.shape"
      ],
      "execution_count": 34,
      "outputs": [
        {
          "output_type": "execute_result",
          "data": {
            "text/plain": [
              "(10590, 2)"
            ]
          },
          "metadata": {
            "tags": []
          },
          "execution_count": 34
        }
      ]
    },
    {
      "cell_type": "code",
      "metadata": {
        "id": "zDkbnXgiYVUT",
        "colab_type": "code",
        "colab": {}
      },
      "source": [
        "X_3 = dataset3['size']\n",
        "y_3 = dataset3['time']"
      ],
      "execution_count": 0,
      "outputs": []
    },
    {
      "cell_type": "code",
      "metadata": {
        "id": "1RUPlyx4YcMl",
        "colab_type": "code",
        "colab": {}
      },
      "source": [
        "X_3 = X_3.values.reshape(-1,1)\n",
        "y_3 = y_3.values.reshape(-1,1)"
      ],
      "execution_count": 0,
      "outputs": []
    },
    {
      "cell_type": "code",
      "metadata": {
        "id": "8K7AXXIrYfC2",
        "colab_type": "code",
        "colab": {
          "base_uri": "https://localhost:8080/",
          "height": 33
        },
        "outputId": "8935f6fa-5c02-4a38-c8f8-295a42778fa4"
      },
      "source": [
        "y_3_predict = model.predict(X_3)\n",
        "results = mean_absolute_error(y_3,y_3_predict)\n",
        "results"
      ],
      "execution_count": 38,
      "outputs": [
        {
          "output_type": "execute_result",
          "data": {
            "text/plain": [
              "0.12275577157511128"
            ]
          },
          "metadata": {
            "tags": []
          },
          "execution_count": 38
        }
      ]
    },
    {
      "cell_type": "markdown",
      "metadata": {
        "id": "Gjj_awrpYgzZ",
        "colab_type": "text"
      },
      "source": [
        "Kết quả tệ hơn với Data 3, Do data này có shape nhỏ hơn dataset1"
      ]
    },
    {
      "cell_type": "markdown",
      "metadata": {
        "id": "En_tnAFQYlCa",
        "colab_type": "text"
      },
      "source": [
        "Xây dựng model mới sử dụng phương pháp tăng số features"
      ]
    },
    {
      "cell_type": "code",
      "metadata": {
        "id": "MMW7unDaYoXt",
        "colab_type": "code",
        "colab": {}
      },
      "source": [
        "dataset3['size**2']=dataset3['size']*dataset3['size']\n",
        "dataset3['size.log(size)']=dataset3['size']*np.log10(dataset3['size'])\n",
        "columns_titles = [\"size\",\"size**2\",\"size.log(size)\",\"time\"]\n",
        "dataset3=dataset3.reindex(columns=columns_titles)\n"
      ],
      "execution_count": 0,
      "outputs": []
    },
    {
      "cell_type": "code",
      "metadata": {
        "id": "3QmjN4WCYrnz",
        "colab_type": "code",
        "colab": {
          "base_uri": "https://localhost:8080/",
          "height": 345
        },
        "outputId": "7a20e4d3-29f9-469c-b169-5de1a7fb9017"
      },
      "source": [
        "dataset3.head(10)"
      ],
      "execution_count": 40,
      "outputs": [
        {
          "output_type": "execute_result",
          "data": {
            "text/html": [
              "<div>\n",
              "<style scoped>\n",
              "    .dataframe tbody tr th:only-of-type {\n",
              "        vertical-align: middle;\n",
              "    }\n",
              "\n",
              "    .dataframe tbody tr th {\n",
              "        vertical-align: top;\n",
              "    }\n",
              "\n",
              "    .dataframe thead th {\n",
              "        text-align: right;\n",
              "    }\n",
              "</style>\n",
              "<table border=\"1\" class=\"dataframe\">\n",
              "  <thead>\n",
              "    <tr style=\"text-align: right;\">\n",
              "      <th></th>\n",
              "      <th>size</th>\n",
              "      <th>size**2</th>\n",
              "      <th>size.log(size)</th>\n",
              "      <th>time</th>\n",
              "    </tr>\n",
              "  </thead>\n",
              "  <tbody>\n",
              "    <tr>\n",
              "      <th>0</th>\n",
              "      <td>37837612</td>\n",
              "      <td>1431684881862544</td>\n",
              "      <td>2.867305e+08</td>\n",
              "      <td>4.12166</td>\n",
              "    </tr>\n",
              "    <tr>\n",
              "      <th>1</th>\n",
              "      <td>37395246</td>\n",
              "      <td>1398404423400516</td>\n",
              "      <td>2.831873e+08</td>\n",
              "      <td>3.92089</td>\n",
              "    </tr>\n",
              "    <tr>\n",
              "      <th>2</th>\n",
              "      <td>36610827</td>\n",
              "      <td>1340352653623929</td>\n",
              "      <td>2.769100e+08</td>\n",
              "      <td>3.21540</td>\n",
              "    </tr>\n",
              "    <tr>\n",
              "      <th>3</th>\n",
              "      <td>29555651</td>\n",
              "      <td>873536506033801</td>\n",
              "      <td>2.207996e+08</td>\n",
              "      <td>2.54506</td>\n",
              "    </tr>\n",
              "    <tr>\n",
              "      <th>4</th>\n",
              "      <td>25928216</td>\n",
              "      <td>672272384942656</td>\n",
              "      <td>1.922259e+08</td>\n",
              "      <td>2.21831</td>\n",
              "    </tr>\n",
              "    <tr>\n",
              "      <th>5</th>\n",
              "      <td>30423112</td>\n",
              "      <td>925565743764544</td>\n",
              "      <td>2.276623e+08</td>\n",
              "      <td>2.61376</td>\n",
              "    </tr>\n",
              "    <tr>\n",
              "      <th>6</th>\n",
              "      <td>21881189</td>\n",
              "      <td>478786432053721</td>\n",
              "      <td>1.606095e+08</td>\n",
              "      <td>1.85961</td>\n",
              "    </tr>\n",
              "    <tr>\n",
              "      <th>7</th>\n",
              "      <td>35810179</td>\n",
              "      <td>1282368920012041</td>\n",
              "      <td>2.705103e+08</td>\n",
              "      <td>3.14761</td>\n",
              "    </tr>\n",
              "    <tr>\n",
              "      <th>8</th>\n",
              "      <td>35355055</td>\n",
              "      <td>1249979914053025</td>\n",
              "      <td>2.668759e+08</td>\n",
              "      <td>3.07585</td>\n",
              "    </tr>\n",
              "    <tr>\n",
              "      <th>9</th>\n",
              "      <td>29399699</td>\n",
              "      <td>864342301290601</td>\n",
              "      <td>2.195670e+08</td>\n",
              "      <td>2.56714</td>\n",
              "    </tr>\n",
              "  </tbody>\n",
              "</table>\n",
              "</div>"
            ],
            "text/plain": [
              "       size           size**2  size.log(size)     time\n",
              "0  37837612  1431684881862544    2.867305e+08  4.12166\n",
              "1  37395246  1398404423400516    2.831873e+08  3.92089\n",
              "2  36610827  1340352653623929    2.769100e+08  3.21540\n",
              "3  29555651   873536506033801    2.207996e+08  2.54506\n",
              "4  25928216   672272384942656    1.922259e+08  2.21831\n",
              "5  30423112   925565743764544    2.276623e+08  2.61376\n",
              "6  21881189   478786432053721    1.606095e+08  1.85961\n",
              "7  35810179  1282368920012041    2.705103e+08  3.14761\n",
              "8  35355055  1249979914053025    2.668759e+08  3.07585\n",
              "9  29399699   864342301290601    2.195670e+08  2.56714"
            ]
          },
          "metadata": {
            "tags": []
          },
          "execution_count": 40
        }
      ]
    },
    {
      "cell_type": "code",
      "metadata": {
        "id": "38soun9NY2GV",
        "colab_type": "code",
        "colab": {}
      },
      "source": [
        "# vẫn chia data 8/2\n",
        "array = dataset3.values\n",
        "X = array[:,0:3]\n",
        "y = array[:,3]\n",
        "X_train, X_validation, Y_train, Y_validation = train_test_split(X, y, test_size=0.20 , random_state=1)"
      ],
      "execution_count": 0,
      "outputs": []
    },
    {
      "cell_type": "code",
      "metadata": {
        "id": "PhwYJVRxY3Su",
        "colab_type": "code",
        "colab": {
          "base_uri": "https://localhost:8080/",
          "height": 33
        },
        "outputId": "70d73805-c6b9-493e-f02f-5c3ba4dea73b"
      },
      "source": [
        "model_new = LinearRegression()\n",
        "model_new.fit(X_train,Y_train)\n",
        "y_predict = model_new.predict(X_validation)\n",
        "results = mean_absolute_error(Y_validation,y_predict)\n",
        "results "
      ],
      "execution_count": 42,
      "outputs": [
        {
          "output_type": "execute_result",
          "data": {
            "text/plain": [
              "0.04301142916048239"
            ]
          },
          "metadata": {
            "tags": []
          },
          "execution_count": 42
        }
      ]
    },
    {
      "cell_type": "markdown",
      "metadata": {
        "id": "nH7MV1RMY7HR",
        "colab_type": "text"
      },
      "source": [
        "Model mới có performance tốt hơn model cũ (0.043 so với 0.122)"
      ]
    },
    {
      "cell_type": "markdown",
      "metadata": {
        "id": "W6gsWrZxZD8m",
        "colab_type": "text"
      },
      "source": [
        "Do sử dụng nhiểu feature , bộ tham số có nhiều thành phần hơn nên độ mất mát sẽ được giảm xuống "
      ]
    }
  ]
}