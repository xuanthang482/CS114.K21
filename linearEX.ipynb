{
  "nbformat": 4,
  "nbformat_minor": 0,
  "metadata": {
    "colab": {
      "name": "linearEX.ipynb",
      "provenance": [],
      "authorship_tag": "ABX9TyPGfae+a/guWYGIhoMPvjyz",
      "include_colab_link": true
    },
    "kernelspec": {
      "name": "python3",
      "display_name": "Python 3"
    }
  },
  "cells": [
    {
      "cell_type": "markdown",
      "metadata": {
        "id": "view-in-github",
        "colab_type": "text"
      },
      "source": [
        "<a href=\"https://colab.research.google.com/github/xuanthang482/CS114.K21/blob/master/linearEX.ipynb\" target=\"_parent\"><img src=\"https://colab.research.google.com/assets/colab-badge.svg\" alt=\"Open In Colab\"/></a>"
      ]
    },
    {
      "cell_type": "code",
      "metadata": {
        "id": "ZbMuohsl5mc_",
        "colab_type": "code",
        "colab": {}
      },
      "source": [
        "from __future__ import division, print_function, unicode_literals\n",
        "import numpy as np \n",
        "import matplotlib.pyplot as plt"
      ],
      "execution_count": 0,
      "outputs": []
    },
    {
      "cell_type": "code",
      "metadata": {
        "id": "dindz0h26wlJ",
        "colab_type": "code",
        "colab": {}
      },
      "source": [
        "# height (cm)\n",
        "X = np.array([[147, 150, 153, 158, 163, 165, 168, 170, 173, 175, 178, 180, 183]]).T\n",
        "# weight (kg)\n",
        "y = np.array([[ 49, 50, 51,  54, 58, 59, 60, 62, 63, 64, 66, 67, 68]]).T"
      ],
      "execution_count": 0,
      "outputs": []
    },
    {
      "cell_type": "code",
      "metadata": {
        "id": "iKGnx7-F69tl",
        "colab_type": "code",
        "colab": {
          "base_uri": "https://localhost:8080/",
          "height": 318
        },
        "outputId": "8d5f33d7-8ea4-450d-92aa-28219bb6b8f2"
      },
      "source": [
        "# Building Xbar \n",
        "one = np.ones((X.shape[0], 1))\n",
        "Xbar = np.concatenate((one, X), axis = 1)\n",
        "\n",
        "# Calculating weights of the fitting line \n",
        "A = np.dot(Xbar.T, Xbar)\n",
        "b = np.dot(Xbar.T, y)\n",
        "w = np.dot(np.linalg.pinv(A), b)\n",
        "print('w = ', w)\n",
        "# Preparing the fitting line \n",
        "w_0 = w[0][0]\n",
        "w_1 = w[1][0]\n",
        "x0 = np.linspace(145, 185, 2)\n",
        "y0 = w_0 + w_1*x0\n",
        "\n",
        "# Drawing the fitting line \n",
        "plt.plot(X.T, y.T, 'ro')     # data \n",
        "plt.plot(x0, y0)               # the fitting line\n",
        "plt.axis([140, 190, 45, 75])\n",
        "plt.xlabel('Height (cm)')\n",
        "plt.ylabel('Weight (kg)')\n",
        "plt.show()\n"
      ],
      "execution_count": 3,
      "outputs": [
        {
          "output_type": "stream",
          "text": [
            "w =  [[-33.73541021]\n",
            " [  0.55920496]]\n"
          ],
          "name": "stdout"
        },
        {
          "output_type": "display_data",
          "data": {
            "image/png": "[encoded data removed]",
            "text/plain": [
              "<Figure size 432x288 with 1 Axes>"
            ]
          },
          "metadata": {
            "tags": [],
            "needs_background": "light"
          }
        }
      ]
    },
    {
      "cell_type": "code",
      "metadata": {
        "id": "6i-hNkfg7HsO",
        "colab_type": "code",
        "colab": {
          "base_uri": "https://localhost:8080/",
          "height": 52
        },
        "outputId": "4fe6b4e4-6d91-4cce-ba2c-30da3705a495"
      },
      "source": [
        "y1 = w_1*155 + w_0\n",
        "y2 = w_1*160 + w_0\n",
        "\n",
        "print( u'Predict weight of person with height 155 cm: %.2f (kg), real weight: 52 (kg)'  %(y1) )\n",
        "print( u'Predict weight of person with height 160 cm: %.2f (kg), real weight: 56 (kg)'  %(y2) )"
      ],
      "execution_count": 6,
      "outputs": [
        {
          "output_type": "stream",
          "text": [
            "Predict weight of person with height 155 cm: 52.94 (kg), real weight: 52 (kg)\n",
            "Predict weight of person with height 160 cm: 55.74 (kg), real weight: 56 (kg)\n"
          ],
          "name": "stdout"
        }
      ]
    },
    {
      "cell_type": "markdown",
      "metadata": {
        "id": "t4NCwLec74OA",
        "colab_type": "text"
      },
      "source": [
        "NGHIỆM BẰNG THƯ VIỆN SCIKIT-LEARN"
      ]
    },
    {
      "cell_type": "code",
      "metadata": {
        "id": "9HYWKSR28EJW",
        "colab_type": "code",
        "colab": {
          "base_uri": "https://localhost:8080/",
          "height": 52
        },
        "outputId": "ec190ebe-6db5-4fef-8e6f-e8160c7cbb84"
      },
      "source": [
        "from sklearn import datasets, linear_model\n",
        "\n",
        "# fit the model by Linear Regression\n",
        "regr = linear_model.LinearRegression(fit_intercept=False)\n",
        "regr.fit(Xbar, y)\n",
        "\n",
        "# Compare two results\n",
        "print( 'Solution found by scikit-learn  : ', regr.coef_ )\n",
        "print( 'Solution found by (5): ', w.T)"
      ],
      "execution_count": 10,
      "outputs": [
        {
          "output_type": "stream",
          "text": [
            "Solution found by scikit-learn  :  [[-33.73541021   0.55920496]]\n",
            "Solution found by (5):  [[-33.73541021   0.55920496]]\n"
          ],
          "name": "stdout"
        }
      ]
    }
  ]
}