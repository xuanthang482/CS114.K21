{
  "nbformat": 4,
  "nbformat_minor": 0,
  "metadata": {
    "colab": {
      "name": "house_price.ipynb",
      "provenance": [],
      "authorship_tag": "ABX9TyO/S1L++U8iSuZZCsck4FZr",
      "include_colab_link": true
    },
    "kernelspec": {
      "name": "python3",
      "display_name": "Python 3"
    },
    "accelerator": "GPU"
  },
  "cells": [
    {
      "cell_type": "markdown",
      "metadata": {
        "id": "view-in-github",
        "colab_type": "text"
      },
      "source": [
        "<a href=\"https://colab.research.google.com/github/xuanthang482/CS114.K21/blob/master/house_price.ipynb\" target=\"_parent\"><img src=\"https://colab.research.google.com/assets/colab-badge.svg\" alt=\"Open In Colab\"/></a>"
      ]
    },
    {
      "cell_type": "markdown",
      "metadata": {
        "id": "3zQHxla7pg5y",
        "colab_type": "text"
      },
      "source": [
        "Upload data dạng file csv từ máy local ( đã tải sẵn về máy)"
      ]
    },
    {
      "cell_type": "code",
      "metadata": {
        "id": "0tEK5QT7prHb",
        "colab_type": "code",
        "colab": {}
      },
      "source": [
        "from google.colab import files\n",
        "files.upload()"
      ],
      "execution_count": null,
      "outputs": []
    },
    {
      "cell_type": "markdown",
      "metadata": {
        "id": "x-6B2iRfw0kd",
        "colab_type": "text"
      },
      "source": [
        "import pandas để đọc file data csv\n"
      ]
    },
    {
      "cell_type": "code",
      "metadata": {
        "id": "iIM0vjJyqA9O",
        "colab_type": "code",
        "colab": {}
      },
      "source": [
        "import pandas as pd \n",
        "data = pd.read_csv('datasets_46927_85203_data.csv')"
      ],
      "execution_count": 2,
      "outputs": []
    },
    {
      "cell_type": "code",
      "metadata": {
        "id": "xzAf5Xmoq164",
        "colab_type": "code",
        "colab": {
          "base_uri": "https://localhost:8080/",
          "height": 33
        },
        "outputId": "660d58fb-67b6-449a-caaf-38c3ab77e9a5"
      },
      "source": [
        "#in ra số chiều của data\n",
        "data.shape"
      ],
      "execution_count": 3,
      "outputs": [
        {
          "output_type": "execute_result",
          "data": {
            "text/plain": [
              "(4600, 18)"
            ]
          },
          "metadata": {
            "tags": []
          },
          "execution_count": 3
        }
      ]
    },
    {
      "cell_type": "code",
      "metadata": {
        "id": "ylcqfofRqu9r",
        "colab_type": "code",
        "colab": {
          "base_uri": "https://localhost:8080/",
          "height": 717
        },
        "outputId": "737f60e9-f636-486c-d33d-c8f9f24c32e0"
      },
      "source": [
        "#in ra 10 hàng đầu tiên của data \n",
        "data.head(10)"
      ],
      "execution_count": 4,
      "outputs": [
        {
          "output_type": "execute_result",
          "data": {
            "text/html": [
              "<div>\n",
              "<style scoped>\n",
              "    .dataframe tbody tr th:only-of-type {\n",
              "        vertical-align: middle;\n",
              "    }\n",
              "\n",
              "    .dataframe tbody tr th {\n",
              "        vertical-align: top;\n",
              "    }\n",
              "\n",
              "    .dataframe thead th {\n",
              "        text-align: right;\n",
              "    }\n",
              "</style>\n",
              "<table border=\"1\" class=\"dataframe\">\n",
              "  <thead>\n",
              "    <tr style=\"text-align: right;\">\n",
              "      <th></th>\n",
              "      <th>date</th>\n",
              "      <th>price</th>\n",
              "      <th>bedrooms</th>\n",
              "      <th>bathrooms</th>\n",
              "      <th>sqft_living</th>\n",
              "      <th>sqft_lot</th>\n",
              "      <th>floors</th>\n",
              "      <th>waterfront</th>\n",
              "      <th>view</th>\n",
              "      <th>condition</th>\n",
              "      <th>sqft_above</th>\n",
              "      <th>sqft_basement</th>\n",
              "      <th>yr_built</th>\n",
              "      <th>yr_renovated</th>\n",
              "      <th>street</th>\n",
              "      <th>city</th>\n",
              "      <th>statezip</th>\n",
              "      <th>country</th>\n",
              "    </tr>\n",
              "  </thead>\n",
              "  <tbody>\n",
              "    <tr>\n",
              "      <th>0</th>\n",
              "      <td>2014-05-02 00:00:00</td>\n",
              "      <td>313000.0</td>\n",
              "      <td>3.0</td>\n",
              "      <td>1.50</td>\n",
              "      <td>1340</td>\n",
              "      <td>7912</td>\n",
              "      <td>1.5</td>\n",
              "      <td>0</td>\n",
              "      <td>0</td>\n",
              "      <td>3</td>\n",
              "      <td>1340</td>\n",
              "      <td>0</td>\n",
              "      <td>1955</td>\n",
              "      <td>2005</td>\n",
              "      <td>18810 Densmore Ave N</td>\n",
              "      <td>Shoreline</td>\n",
              "      <td>WA 98133</td>\n",
              "      <td>USA</td>\n",
              "    </tr>\n",
              "    <tr>\n",
              "      <th>1</th>\n",
              "      <td>2014-05-02 00:00:00</td>\n",
              "      <td>2384000.0</td>\n",
              "      <td>5.0</td>\n",
              "      <td>2.50</td>\n",
              "      <td>3650</td>\n",
              "      <td>9050</td>\n",
              "      <td>2.0</td>\n",
              "      <td>0</td>\n",
              "      <td>4</td>\n",
              "      <td>5</td>\n",
              "      <td>3370</td>\n",
              "      <td>280</td>\n",
              "      <td>1921</td>\n",
              "      <td>0</td>\n",
              "      <td>709 W Blaine St</td>\n",
              "      <td>Seattle</td>\n",
              "      <td>WA 98119</td>\n",
              "      <td>USA</td>\n",
              "    </tr>\n",
              "    <tr>\n",
              "      <th>2</th>\n",
              "      <td>2014-05-02 00:00:00</td>\n",
              "      <td>342000.0</td>\n",
              "      <td>3.0</td>\n",
              "      <td>2.00</td>\n",
              "      <td>1930</td>\n",
              "      <td>11947</td>\n",
              "      <td>1.0</td>\n",
              "      <td>0</td>\n",
              "      <td>0</td>\n",
              "      <td>4</td>\n",
              "      <td>1930</td>\n",
              "      <td>0</td>\n",
              "      <td>1966</td>\n",
              "      <td>0</td>\n",
              "      <td>26206-26214 143rd Ave SE</td>\n",
              "      <td>Kent</td>\n",
              "      <td>WA 98042</td>\n",
              "      <td>USA</td>\n",
              "    </tr>\n",
              "    <tr>\n",
              "      <th>3</th>\n",
              "      <td>2014-05-02 00:00:00</td>\n",
              "      <td>420000.0</td>\n",
              "      <td>3.0</td>\n",
              "      <td>2.25</td>\n",
              "      <td>2000</td>\n",
              "      <td>8030</td>\n",
              "      <td>1.0</td>\n",
              "      <td>0</td>\n",
              "      <td>0</td>\n",
              "      <td>4</td>\n",
              "      <td>1000</td>\n",
              "      <td>1000</td>\n",
              "      <td>1963</td>\n",
              "      <td>0</td>\n",
              "      <td>857 170th Pl NE</td>\n",
              "      <td>Bellevue</td>\n",
              "      <td>WA 98008</td>\n",
              "      <td>USA</td>\n",
              "    </tr>\n",
              "    <tr>\n",
              "      <th>4</th>\n",
              "      <td>2014-05-02 00:00:00</td>\n",
              "      <td>550000.0</td>\n",
              "      <td>4.0</td>\n",
              "      <td>2.50</td>\n",
              "      <td>1940</td>\n",
              "      <td>10500</td>\n",
              "      <td>1.0</td>\n",
              "      <td>0</td>\n",
              "      <td>0</td>\n",
              "      <td>4</td>\n",
              "      <td>1140</td>\n",
              "      <td>800</td>\n",
              "      <td>1976</td>\n",
              "      <td>1992</td>\n",
              "      <td>9105 170th Ave NE</td>\n",
              "      <td>Redmond</td>\n",
              "      <td>WA 98052</td>\n",
              "      <td>USA</td>\n",
              "    </tr>\n",
              "    <tr>\n",
              "      <th>5</th>\n",
              "      <td>2014-05-02 00:00:00</td>\n",
              "      <td>490000.0</td>\n",
              "      <td>2.0</td>\n",
              "      <td>1.00</td>\n",
              "      <td>880</td>\n",
              "      <td>6380</td>\n",
              "      <td>1.0</td>\n",
              "      <td>0</td>\n",
              "      <td>0</td>\n",
              "      <td>3</td>\n",
              "      <td>880</td>\n",
              "      <td>0</td>\n",
              "      <td>1938</td>\n",
              "      <td>1994</td>\n",
              "      <td>522 NE 88th St</td>\n",
              "      <td>Seattle</td>\n",
              "      <td>WA 98115</td>\n",
              "      <td>USA</td>\n",
              "    </tr>\n",
              "    <tr>\n",
              "      <th>6</th>\n",
              "      <td>2014-05-02 00:00:00</td>\n",
              "      <td>335000.0</td>\n",
              "      <td>2.0</td>\n",
              "      <td>2.00</td>\n",
              "      <td>1350</td>\n",
              "      <td>2560</td>\n",
              "      <td>1.0</td>\n",
              "      <td>0</td>\n",
              "      <td>0</td>\n",
              "      <td>3</td>\n",
              "      <td>1350</td>\n",
              "      <td>0</td>\n",
              "      <td>1976</td>\n",
              "      <td>0</td>\n",
              "      <td>2616 174th Ave NE</td>\n",
              "      <td>Redmond</td>\n",
              "      <td>WA 98052</td>\n",
              "      <td>USA</td>\n",
              "    </tr>\n",
              "    <tr>\n",
              "      <th>7</th>\n",
              "      <td>2014-05-02 00:00:00</td>\n",
              "      <td>482000.0</td>\n",
              "      <td>4.0</td>\n",
              "      <td>2.50</td>\n",
              "      <td>2710</td>\n",
              "      <td>35868</td>\n",
              "      <td>2.0</td>\n",
              "      <td>0</td>\n",
              "      <td>0</td>\n",
              "      <td>3</td>\n",
              "      <td>2710</td>\n",
              "      <td>0</td>\n",
              "      <td>1989</td>\n",
              "      <td>0</td>\n",
              "      <td>23762 SE 253rd Pl</td>\n",
              "      <td>Maple Valley</td>\n",
              "      <td>WA 98038</td>\n",
              "      <td>USA</td>\n",
              "    </tr>\n",
              "    <tr>\n",
              "      <th>8</th>\n",
              "      <td>2014-05-02 00:00:00</td>\n",
              "      <td>452500.0</td>\n",
              "      <td>3.0</td>\n",
              "      <td>2.50</td>\n",
              "      <td>2430</td>\n",
              "      <td>88426</td>\n",
              "      <td>1.0</td>\n",
              "      <td>0</td>\n",
              "      <td>0</td>\n",
              "      <td>4</td>\n",
              "      <td>1570</td>\n",
              "      <td>860</td>\n",
              "      <td>1985</td>\n",
              "      <td>0</td>\n",
              "      <td>46611-46625 SE 129th St</td>\n",
              "      <td>North Bend</td>\n",
              "      <td>WA 98045</td>\n",
              "      <td>USA</td>\n",
              "    </tr>\n",
              "    <tr>\n",
              "      <th>9</th>\n",
              "      <td>2014-05-02 00:00:00</td>\n",
              "      <td>640000.0</td>\n",
              "      <td>4.0</td>\n",
              "      <td>2.00</td>\n",
              "      <td>1520</td>\n",
              "      <td>6200</td>\n",
              "      <td>1.5</td>\n",
              "      <td>0</td>\n",
              "      <td>0</td>\n",
              "      <td>3</td>\n",
              "      <td>1520</td>\n",
              "      <td>0</td>\n",
              "      <td>1945</td>\n",
              "      <td>2010</td>\n",
              "      <td>6811 55th Ave NE</td>\n",
              "      <td>Seattle</td>\n",
              "      <td>WA 98115</td>\n",
              "      <td>USA</td>\n",
              "    </tr>\n",
              "  </tbody>\n",
              "</table>\n",
              "</div>"
            ],
            "text/plain": [
              "                  date      price  bedrooms  ...          city  statezip  country\n",
              "0  2014-05-02 00:00:00   313000.0       3.0  ...     Shoreline  WA 98133      USA\n",
              "1  2014-05-02 00:00:00  2384000.0       5.0  ...       Seattle  WA 98119      USA\n",
              "2  2014-05-02 00:00:00   342000.0       3.0  ...          Kent  WA 98042      USA\n",
              "3  2014-05-02 00:00:00   420000.0       3.0  ...      Bellevue  WA 98008      USA\n",
              "4  2014-05-02 00:00:00   550000.0       4.0  ...       Redmond  WA 98052      USA\n",
              "5  2014-05-02 00:00:00   490000.0       2.0  ...       Seattle  WA 98115      USA\n",
              "6  2014-05-02 00:00:00   335000.0       2.0  ...       Redmond  WA 98052      USA\n",
              "7  2014-05-02 00:00:00   482000.0       4.0  ...  Maple Valley  WA 98038      USA\n",
              "8  2014-05-02 00:00:00   452500.0       3.0  ...    North Bend  WA 98045      USA\n",
              "9  2014-05-02 00:00:00   640000.0       4.0  ...       Seattle  WA 98115      USA\n",
              "\n",
              "[10 rows x 18 columns]"
            ]
          },
          "metadata": {
            "tags": []
          },
          "execution_count": 4
        }
      ]
    },
    {
      "cell_type": "code",
      "metadata": {
        "id": "mlq95bt0rKVJ",
        "colab_type": "code",
        "colab": {
          "base_uri": "https://localhost:8080/",
          "height": 100
        },
        "outputId": "ecfc5c55-f44a-4fc2-e2d3-0813d8d2ab4a"
      },
      "source": [
        "#lấy tên các cột data để chọn lọc\n",
        "data.columns\n"
      ],
      "execution_count": 5,
      "outputs": [
        {
          "output_type": "execute_result",
          "data": {
            "text/plain": [
              "Index(['date', 'price', 'bedrooms', 'bathrooms', 'sqft_living', 'sqft_lot',\n",
              "       'floors', 'waterfront', 'view', 'condition', 'sqft_above',\n",
              "       'sqft_basement', 'yr_built', 'yr_renovated', 'street', 'city',\n",
              "       'statezip', 'country'],\n",
              "      dtype='object')"
            ]
          },
          "metadata": {
            "tags": []
          },
          "execution_count": 5
        }
      ]
    },
    {
      "cell_type": "markdown",
      "metadata": {
        "id": "aZl3VjR1xUOR",
        "colab_type": "text"
      },
      "source": [
        "vì data có nhiều feature nên em chọn ra một số cột có số liệu theo em là ảnh hưởng nhiều đến giá nhà như:\n",
        "\n",
        "\n",
        "\n",
        "*   sqrt_living: diện tích phòng khách\n",
        "*   sqrt_lot: tổng diện tích \n",
        "*   bedroom: số phòng ngủ \n",
        "*   bathroom: số phòng tắm\n",
        "*   floors : số tầng \n",
        "*   view : số mặt tiền \n",
        "*   yr_built: năm xây dựng\n",
        "\n",
        "\n",
        "\n",
        "\n"
      ]
    },
    {
      "cell_type": "code",
      "metadata": {
        "id": "93vmkpbZrMsi",
        "colab_type": "code",
        "colab": {
          "base_uri": "https://localhost:8080/",
          "height": 217
        },
        "outputId": "a4733cdc-2a9a-4440-b684-1e787a699ee7"
      },
      "source": [
        "names = ['bedrooms', 'bathrooms', 'sqft_living', 'sqft_lot',\n",
        "       'floors', 'view', 'sqft_basement', 'yr_built']\n",
        "features= data[names]       \n",
        "labels= data['price']       \n",
        "labels"
      ],
      "execution_count": 6,
      "outputs": [
        {
          "output_type": "execute_result",
          "data": {
            "text/plain": [
              "0       3.130000e+05\n",
              "1       2.384000e+06\n",
              "2       3.420000e+05\n",
              "3       4.200000e+05\n",
              "4       5.500000e+05\n",
              "            ...     \n",
              "4595    3.081667e+05\n",
              "4596    5.343333e+05\n",
              "4597    4.169042e+05\n",
              "4598    2.034000e+05\n",
              "4599    2.206000e+05\n",
              "Name: price, Length: 4600, dtype: float64"
            ]
          },
          "metadata": {
            "tags": []
          },
          "execution_count": 6
        }
      ]
    },
    {
      "cell_type": "code",
      "metadata": {
        "id": "fi-I7X40rxv-",
        "colab_type": "code",
        "colab": {}
      },
      "source": [
        "#imporrt model , hàm chia data , tính sai số \n",
        "from sklearn.model_selection import train_test_split\n",
        "from sklearn.linear_model import LinearRegression\n",
        "from sklearn.metrics import mean_absolute_error\n"
      ],
      "execution_count": 7,
      "outputs": []
    },
    {
      "cell_type": "code",
      "metadata": {
        "id": "kQybOzcwwGys",
        "colab_type": "code",
        "colab": {}
      },
      "source": [
        "#chia data train/test theo tỉ lệ 0.75/0.25\n",
        "x_train, x_test, y_train, y_test = train_test_split(features, labels, test_size=0.25)"
      ],
      "execution_count": 8,
      "outputs": []
    },
    {
      "cell_type": "code",
      "metadata": {
        "id": "NnOYUv3ywJ2o",
        "colab_type": "code",
        "colab": {
          "base_uri": "https://localhost:8080/",
          "height": 33
        },
        "outputId": "d48e9cf4-5a34-4fa4-f02c-2e1a62fc38b3"
      },
      "source": [
        "#fit model\n",
        "model = LinearRegression() \n",
        "model.fit(x_train, y_train)"
      ],
      "execution_count": 9,
      "outputs": [
        {
          "output_type": "execute_result",
          "data": {
            "text/plain": [
              "LinearRegression(copy_X=True, fit_intercept=True, n_jobs=None, normalize=False)"
            ]
          },
          "metadata": {
            "tags": []
          },
          "execution_count": 9
        }
      ]
    },
    {
      "cell_type": "code",
      "metadata": {
        "id": "VuT-jispwQs1",
        "colab_type": "code",
        "colab": {}
      },
      "source": [
        "pred = model.predict(x_test)\n"
      ],
      "execution_count": 10,
      "outputs": []
    },
    {
      "cell_type": "markdown",
      "metadata": {
        "id": "onTGEC7qyvys",
        "colab_type": "text"
      },
      "source": [
        "Evaluete model : em dùng mean absolute error để đánh giá"
      ]
    },
    {
      "cell_type": "code",
      "metadata": {
        "id": "QaPb_fNywc4Q",
        "colab_type": "code",
        "colab": {
          "base_uri": "https://localhost:8080/",
          "height": 33
        },
        "outputId": "7f42e3d9-249b-4eaf-a033-bd39ffe3d026"
      },
      "source": [
        "print('mean absolute error:', mean_absolute_error(y_test, pred))"
      ],
      "execution_count": 11,
      "outputs": [
        {
          "output_type": "stream",
          "text": [
            "mean absolute error: 163352.05899099904\n"
          ],
          "name": "stdout"
        }
      ]
    }
  ]
}